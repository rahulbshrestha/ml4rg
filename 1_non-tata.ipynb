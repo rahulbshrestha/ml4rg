{
 "cells": [
  {
   "cell_type": "code",
   "execution_count": 1,
   "id": "091a7cb4-3730-45b1-805a-28c33136722a",
   "metadata": {},
   "outputs": [],
   "source": [
    "import sklearn\n",
    "import torch\n",
    "import transformers\n",
    "import peft\n",
    "import tqdm\n",
    "import math\n",
    "import pandas as pd\n",
    "import torch\n",
    "from torch import nn\n",
    "import matplotlib.pyplot as plt\n",
    "from datasets import Dataset, DatasetDict, load_dataset\n",
    "from transformers import AutoTokenizer, AutoModelForMaskedLM, DataCollatorWithPadding, Trainer, TrainingArguments\n",
    "from sklearn.metrics import accuracy_score, precision_recall_fscore_support, classification_report, roc_auc_score, roc_curve, auc\n",
    "from peft import LoraConfig, TaskType, get_peft_model, IA3Config"
   ]
  },
  {
   "cell_type": "markdown",
   "id": "aeddb5c6-61db-40e3-8285-2a38675f391b",
   "metadata": {},
   "source": [
    "## Load Models"
   ]
  },
  {
   "cell_type": "code",
   "execution_count": 2,
   "id": "84ebe8e3-98aa-40d9-8846-5e62726105f8",
   "metadata": {},
   "outputs": [
    {
     "name": "stdout",
     "output_type": "stream",
     "text": [
      "Load pretrained model to device cuda\n"
     ]
    }
   ],
   "source": [
    "tokenizer = AutoTokenizer.from_pretrained(\"gagneurlab/SpeciesLM\", revision=\"downstream_species_lm\")\n",
    "lm = AutoModelForMaskedLM.from_pretrained(\"gagneurlab/SpeciesLM\", revision=\"downstream_species_lm\")\n",
    "\n",
    "device = \"cuda\" if torch.cuda.is_available() else \"cpu\"\n",
    "lm.eval()\n",
    "lm.to(device)\n",
    "print(f\"Load pretrained model to device {device}\")"
   ]
  },
  {
   "cell_type": "code",
   "execution_count": 45,
   "id": "826da12c-743a-4b51-a781-c2698af28123",
   "metadata": {},
   "outputs": [
    {
     "data": {
      "text/plain": [
       "BertForMaskedLM(\n",
       "  (bert): BertModel(\n",
       "    (embeddings): BertEmbeddings(\n",
       "      (word_embeddings): Embedding(5504, 768, padding_idx=0)\n",
       "      (position_embeddings): Embedding(512, 768)\n",
       "      (token_type_embeddings): Embedding(2, 768)\n",
       "      (LayerNorm): LayerNorm((768,), eps=1e-12, elementwise_affine=True)\n",
       "      (dropout): Dropout(p=0.1, inplace=False)\n",
       "    )\n",
       "    (encoder): BertEncoder(\n",
       "      (layer): ModuleList(\n",
       "        (0-11): 12 x BertLayer(\n",
       "          (attention): BertAttention(\n",
       "            (self): BertSdpaSelfAttention(\n",
       "              (query): Linear(in_features=768, out_features=768, bias=True)\n",
       "              (key): Linear(in_features=768, out_features=768, bias=True)\n",
       "              (value): Linear(in_features=768, out_features=768, bias=True)\n",
       "              (dropout): Dropout(p=0.1, inplace=False)\n",
       "            )\n",
       "            (output): BertSelfOutput(\n",
       "              (dense): Linear(in_features=768, out_features=768, bias=True)\n",
       "              (LayerNorm): LayerNorm((768,), eps=1e-12, elementwise_affine=True)\n",
       "              (dropout): Dropout(p=0.1, inplace=False)\n",
       "            )\n",
       "          )\n",
       "          (intermediate): BertIntermediate(\n",
       "            (dense): Linear(in_features=768, out_features=3072, bias=True)\n",
       "            (intermediate_act_fn): GELUActivation()\n",
       "          )\n",
       "          (output): BertOutput(\n",
       "            (dense): Linear(in_features=3072, out_features=768, bias=True)\n",
       "            (LayerNorm): LayerNorm((768,), eps=1e-12, elementwise_affine=True)\n",
       "            (dropout): Dropout(p=0.1, inplace=False)\n",
       "          )\n",
       "        )\n",
       "      )\n",
       "    )\n",
       "  )\n",
       "  (cls): BertOnlyMLMHead(\n",
       "    (predictions): BertLMPredictionHead(\n",
       "      (transform): BertPredictionHeadTransform(\n",
       "        (dense): Linear(in_features=768, out_features=768, bias=True)\n",
       "        (transform_act_fn): GELUActivation()\n",
       "        (LayerNorm): LayerNorm((768,), eps=1e-12, elementwise_affine=True)\n",
       "      )\n",
       "      (decoder): Linear(in_features=768, out_features=5504, bias=True)\n",
       "    )\n",
       "  )\n",
       ")"
      ]
     },
     "execution_count": 45,
     "metadata": {},
     "output_type": "execute_result"
    }
   ],
   "source": [
    "lm"
   ]
  },
  {
   "cell_type": "markdown",
   "id": "b4f41d70-1680-4b0f-b452-c967b669dd38",
   "metadata": {},
   "source": [
    "## Prepare Dataset"
   ]
  },
  {
   "cell_type": "code",
   "execution_count": 3,
   "id": "db268821-1349-4444-af6d-1de617fb2244",
   "metadata": {},
   "outputs": [
    {
     "data": {
      "text/plain": [
       "DatasetDict({\n",
       "    train: Dataset({\n",
       "        features: ['sequence', 'name', 'label'],\n",
       "        num_rows: 47767\n",
       "    })\n",
       "    test: Dataset({\n",
       "        features: ['sequence', 'name', 'label'],\n",
       "        num_rows: 5299\n",
       "    })\n",
       "})"
      ]
     },
     "execution_count": 3,
     "metadata": {},
     "output_type": "execute_result"
    }
   ],
   "source": [
    "dataset = load_dataset(path=\"InstaDeepAI/nucleotide_transformer_downstream_tasks\", \n",
    "                        name=\"promoter_no_tata\", trust_remote_code=True)\n",
    "dataset"
   ]
  },
  {
   "cell_type": "code",
   "execution_count": 4,
   "id": "59028cd1-32cd-4504-869e-bb4f7616d1da",
   "metadata": {},
   "outputs": [
    {
     "data": {
      "text/plain": [
       "{'sequence': 'ATAAAGCAACAGGAGGACACCGGCTCTCGCGTCATTAGGTCACACAATGTCTCAGTTTAAGGCGGGTGGGGTGGGCCAGACTCACAGCTGAGATAGAATTATTGCGAGATAACTCTGTTTAAGTAGCTAGGCTTGAAAATGGACGGTGAGTACCCTAGGACGTGCCCCAGGGCCAGTGGGATAAAGGTACACGCCGGCGGGGGCATGAGTCAGGGGTTTGCGAGCGAAAAAAGGAGCATTGGTTGCTACTGCGTTAGTGGGAACGTAGCTGGTCGCAGAGGGCACCTAATGCTGGCACCC',\n",
       " 'name': 'SLC4A1_1(-)|no_TATA|0',\n",
       " 'label': 0}"
      ]
     },
     "execution_count": 4,
     "metadata": {},
     "output_type": "execute_result"
    }
   ],
   "source": [
    "dataset['train'][0]"
   ]
  },
  {
   "cell_type": "code",
   "execution_count": 4,
   "id": "a1328f3d-eedd-48e6-a398-0c96a026750e",
   "metadata": {},
   "outputs": [],
   "source": [
    "train_valid_split = dataset['train'].train_test_split(test_size=0.15, seed=42)\n",
    "\n",
    "train_valid_split = DatasetDict({\n",
    "    'train': train_valid_split['train'],\n",
    "    'validation': train_valid_split['test']\n",
    "})\n",
    "\n",
    "ds = DatasetDict({\n",
    "    'train': train_valid_split['train'],\n",
    "    'validation': train_valid_split['validation'],\n",
    "    'test': dataset['test']\n",
    "})"
   ]
  },
  {
   "cell_type": "code",
   "execution_count": 5,
   "id": "ba95752c-e47d-46b6-a207-fa3057fc38e8",
   "metadata": {},
   "outputs": [],
   "source": [
    "def get_kmers(seq, k=6, stride=1):\n",
    "    return [seq[i:i + k] for i in range(0, len(seq), stride) if i + k <= len(seq)]"
   ]
  },
  {
   "cell_type": "code",
   "execution_count": 6,
   "id": "3b52d220-7d48-4ff7-b6d2-3dc83ebab4da",
   "metadata": {},
   "outputs": [],
   "source": [
    "def get_dataset(ds):\n",
    "    test_sequences = []\n",
    "    train_sequences = []\n",
    "    val_sequences = []\n",
    "    \n",
    "    for i in range(0, len(ds['train'])):\n",
    "    \n",
    "        sequence = ds['train'][i]['sequence']\n",
    "        sequence = \"candida_glabrata \" + \" \".join(get_kmers(sequence))\n",
    "        sequence = tokenizer(sequence)[\"input_ids\"]\n",
    "        train_sequences.append(sequence)\n",
    "    \n",
    "    for i in range(0, len(ds['validation'])):\n",
    "        sequence = ds['validation'][i]['sequence']\n",
    "        sequence = \"candida_glabrata \" + \" \".join(get_kmers(sequence))\n",
    "        sequence = tokenizer(sequence)[\"input_ids\"]\n",
    "        val_sequences.append(sequence)\n",
    "    \n",
    "    \n",
    "    for i in range(0, len(ds['test'])):\n",
    "        sequence = ds['test'][i]['sequence']\n",
    "        sequence = \"candida_glabrata \" + \" \".join(get_kmers(sequence))\n",
    "        sequence = tokenizer(sequence)[\"input_ids\"]\n",
    "        test_sequences.append(sequence)\n",
    "    \n",
    "    \n",
    "    train_labels = ds['train']['label']\n",
    "    test_labels = ds['test']['label']\n",
    "    val_labels = ds['validation']['label']\n",
    "    \n",
    "    a = {\"input_ids\": train_sequences, \"labels\": train_labels}\n",
    "    df = pd.DataFrame.from_dict(a)\n",
    "    train_dataset = Dataset.from_pandas(df)\n",
    "    \n",
    "    b = {\"input_ids\": val_sequences, \"labels\": val_labels}\n",
    "    df = pd.DataFrame.from_dict(b)\n",
    "    val_dataset = Dataset.from_pandas(df)\n",
    "    \n",
    "    c = {\"input_ids\": test_sequences, \"labels\": test_labels}\n",
    "    df = pd.DataFrame.from_dict(c)\n",
    "    test_dataset = Dataset.from_pandas(df)\n",
    "    \n",
    "    total = len(train_dataset)+len(val_dataset)+len(test_dataset)\n",
    "    \n",
    "    print(f\"\"\"# of Train set: {len(train_dataset)} ({round(len(train_dataset)/total,2)})\n",
    "    # of Validation set: {len(val_dataset)} ({round(len(val_dataset)/total,2)})\n",
    "    # of Test set: {len(test_dataset)}({round(len(test_dataset)/total,2)})\"\"\")\n",
    "    return train_dataset, val_dataset, test_dataset, train_labels, val_labels, test_labels\n"
   ]
  },
  {
   "cell_type": "code",
   "execution_count": 7,
   "id": "6ed60921-b6b9-4c91-a4be-2c05976c2b8e",
   "metadata": {},
   "outputs": [
    {
     "name": "stdout",
     "output_type": "stream",
     "text": [
      "# of Train set: 40601 (0.77)\n",
      "    # of Validation set: 7166 (0.14)\n",
      "    # of Test set: 5299(0.1)\n"
     ]
    }
   ],
   "source": [
    "train_dataset, val_dataset, test_dataset, train_labels, val_labels, test_labels = get_dataset(ds)"
   ]
  },
  {
   "cell_type": "markdown",
   "id": "3f2fd433-6921-4f13-9045-911fed20147f",
   "metadata": {},
   "source": [
    "## Set Up Model"
   ]
  },
  {
   "cell_type": "code",
   "execution_count": 8,
   "id": "663e88c4-8eb4-49d4-aa1e-f86f2db98b60",
   "metadata": {},
   "outputs": [],
   "source": [
    "# free model weights\n",
    "for param in lm.parameters():\n",
    "  param.requires_grad = False"
   ]
  },
  {
   "cell_type": "code",
   "execution_count": 9,
   "id": "5d32ceb5-ab90-480f-8ce5-4e47df75175a",
   "metadata": {},
   "outputs": [],
   "source": [
    "class DNA_LM(nn.Module):\n",
    "    def __init__(self, model, num_labels):\n",
    "        super(DNA_LM, self).__init__()\n",
    "        self.model = model.bert  # take only the encoder\n",
    "        self.in_features = self.model.config.hidden_size\n",
    "        self.out_features = num_labels\n",
    "        self.classifier = nn.Linear(self.in_features, self.out_features)\n",
    "\n",
    "    def forward(self, input_ids, attention_mask=None, labels=None):\n",
    "        outputs = self.model(input_ids=input_ids,\n",
    "                             attention_mask=attention_mask,\n",
    "                             output_hidden_states=True)\n",
    "        sequence_output = outputs.last_hidden_state\n",
    "        # Use the [CLS] token for classification\n",
    "        cls_output = sequence_output[:, 0, :]\n",
    "        logits = self.classifier(cls_output)\n",
    "\n",
    "        loss = None\n",
    "        if labels is not None:\n",
    "            loss_fct = nn.CrossEntropyLoss()\n",
    "            loss = loss_fct(logits.view(-1, self.out_features), labels.view(-1))\n",
    "\n",
    "        return (loss, logits) if loss is not None else logits\n",
    "\n",
    "num_labels = 2"
   ]
  },
  {
   "cell_type": "code",
   "execution_count": 10,
   "id": "4e4cbccf-8e61-4d10-8152-4be8273ae7d0",
   "metadata": {},
   "outputs": [],
   "source": [
    "# Number of classes for your classification task\n",
    "\n",
    "batch_size = 128\n",
    "num_labels = 2\n",
    "data_collator = DataCollatorWithPadding(tokenizer=tokenizer)\n",
    "epochs = 5\n",
    "weight_decay = 1e-2\n",
    "learning_rate = 1e-3"
   ]
  },
  {
   "cell_type": "code",
   "execution_count": 12,
   "id": "5cd47390-e89d-4fd7-9a55-66a3b399330c",
   "metadata": {},
   "outputs": [
    {
     "name": "stderr",
     "output_type": "stream",
     "text": [
      "Detected kernel version 4.18.0, which is below the recommended minimum of 5.5.0; this can cause the process to hang. It is recommended to upgrade the kernel to the minimum version or higher.\n"
     ]
    },
    {
     "data": {
      "text/html": [
       "\n",
       "    <div>\n",
       "      \n",
       "      <progress value='1590' max='1590' style='width:300px; height:20px; vertical-align: middle;'></progress>\n",
       "      [1590/1590 15:46, Epoch 5/5]\n",
       "    </div>\n",
       "    <table border=\"1\" class=\"dataframe\">\n",
       "  <thead>\n",
       " <tr style=\"text-align: left;\">\n",
       "      <th>Epoch</th>\n",
       "      <th>Training Loss</th>\n",
       "      <th>Validation Loss</th>\n",
       "    </tr>\n",
       "  </thead>\n",
       "  <tbody>\n",
       "    <tr>\n",
       "      <td>1</td>\n",
       "      <td>0.376300</td>\n",
       "      <td>0.414736</td>\n",
       "    </tr>\n",
       "    <tr>\n",
       "      <td>2</td>\n",
       "      <td>0.310200</td>\n",
       "      <td>0.379471</td>\n",
       "    </tr>\n",
       "    <tr>\n",
       "      <td>3</td>\n",
       "      <td>0.418700</td>\n",
       "      <td>0.374253</td>\n",
       "    </tr>\n",
       "    <tr>\n",
       "      <td>4</td>\n",
       "      <td>0.277000</td>\n",
       "      <td>0.368297</td>\n",
       "    </tr>\n",
       "    <tr>\n",
       "      <td>5</td>\n",
       "      <td>0.345500</td>\n",
       "      <td>0.366134</td>\n",
       "    </tr>\n",
       "  </tbody>\n",
       "</table><p>"
      ],
      "text/plain": [
       "<IPython.core.display.HTML object>"
      ]
     },
     "metadata": {},
     "output_type": "display_data"
    },
    {
     "data": {
      "text/plain": [
       "TrainOutput(global_step=1590, training_loss=0.37085412751953556, metrics={'train_runtime': 947.6153, 'train_samples_per_second': 214.227, 'train_steps_per_second': 1.678, 'total_flos': 0.0, 'train_loss': 0.37085412751953556, 'epoch': 5.0})"
      ]
     },
     "execution_count": 12,
     "metadata": {},
     "output_type": "execute_result"
    }
   ],
   "source": [
    "baseline_model = DNA_LM(lm, num_labels)\n",
    "baseline_model.to(device)\n",
    "\n",
    "# Define training arguments\n",
    "training_args = TrainingArguments(\n",
    "    output_dir='./results/baseline',\n",
    "    eval_strategy=\"epoch\",\n",
    "    learning_rate=learning_rate,\n",
    "    per_device_train_batch_size=batch_size,\n",
    "    per_device_eval_batch_size=batch_size,\n",
    "    num_train_epochs=epochs,\n",
    "    weight_decay=weight_decay,\n",
    "    eval_steps=1,\n",
    "    logging_steps=1,\n",
    ")\n",
    "\n",
    "# Initialize Trainer\n",
    "trainer = Trainer(\n",
    "    model=baseline_model,\n",
    "    args=training_args,\n",
    "    train_dataset=train_dataset,\n",
    "    eval_dataset=val_dataset,\n",
    "    tokenizer=tokenizer,\n",
    "    data_collator=data_collator,\n",
    ")\n",
    "trainer.train()"
   ]
  },
  {
   "cell_type": "markdown",
   "id": "cbdbbdcd-a6d1-4c77-880a-0ebce084888b",
   "metadata": {},
   "source": [
    "## Predict using baseline model"
   ]
  },
  {
   "cell_type": "code",
   "execution_count": 11,
   "id": "206f1008-de8e-4362-837c-5ffd44a14cf4",
   "metadata": {},
   "outputs": [],
   "source": [
    "def sklearn_eval(test_labels, predicted_labels):\n",
    "    accuracy = accuracy_score(test_labels, predicted_labels)\n",
    "    print(f\"Accuracy: {accuracy:.4f}\")\n",
    "    \n",
    "    precision, recall, f1, _ = precision_recall_fscore_support(test_labels, predicted_labels, average='weighted')\n",
    "    print(f\"Precision: {precision:.4f}\")\n",
    "    print(f\"Recall: {recall:.4f}\")\n",
    "    print(f\"F1-Score: {f1:.4f}\")\n",
    "    \n",
    "    roc_score = roc_auc_score(test_labels, predicted_labels)\n",
    "    print(f\"AUC ROC score: {roc_score:.4f}\")\n",
    "\n",
    "    target_names = ['Class 0', 'Class 1']\n",
    "    print(classification_report(test_labels, predicted_labels, target_names=target_names))"
   ]
  },
  {
   "cell_type": "code",
   "execution_count": 12,
   "id": "c0293f64-e4b7-4278-94e7-0eb2525f2f9e",
   "metadata": {},
   "outputs": [],
   "source": [
    "def plot_roc(test_labels, predicted_labels):\n",
    "  fpr, tpr, thresholds = roc_curve(test_labels, predicted_labels, pos_label = 1)\n",
    "\n",
    "  # AUC score that summarizes the ROC curve\n",
    "  roc_auc = auc(fpr, tpr)\n",
    "\n",
    "  plt.plot(fpr, tpr, lw = 2, label = 'ROC AUC: {:.2f}'.format(roc_auc))\n",
    "  plt.plot([0, 1], [0, 1],\n",
    "          linestyle = '--',\n",
    "          color = (0.6, 0.6, 0.6),\n",
    "          label = 'random guessing')\n",
    "  plt.plot([0, 0, 1], [0, 1, 1],\n",
    "          linestyle = ':',\n",
    "          color = 'black', \n",
    "          label = 'perfect performance')\n",
    "\n",
    "  plt.xlim([-0.05, 1.05])\n",
    "  plt.ylim([-0.05, 1.05])\n",
    "  plt.xlabel('false positive rate')\n",
    "  plt.ylabel('true positive rate')\n",
    "  plt.title('Receiver Operator Characteristic')\n",
    "  plt.legend(loc = \"lower right\")\n",
    "  plt.tight_layout()\n",
    "  plt.show()"
   ]
  },
  {
   "cell_type": "code",
   "execution_count": 15,
   "id": "ea647e6b-c0fe-4954-98b6-1540ed24babd",
   "metadata": {},
   "outputs": [
    {
     "data": {
      "text/html": [],
      "text/plain": [
       "<IPython.core.display.HTML object>"
      ]
     },
     "metadata": {},
     "output_type": "display_data"
    }
   ],
   "source": [
    "predictions = trainer.predict(test_dataset)\n",
    "logits = predictions.predictions\n",
    "predicted_labels_baseline = logits.argmax(axis=-1)"
   ]
  },
  {
   "cell_type": "code",
   "execution_count": 16,
   "id": "7167997d-400b-4004-9f2b-5fd649fbdf98",
   "metadata": {},
   "outputs": [
    {
     "name": "stdout",
     "output_type": "stream",
     "text": [
      "Accuracy: 0.8313\n",
      "Precision: 0.8352\n",
      "Recall: 0.8313\n",
      "F1-Score: 0.8307\n",
      "AUC ROC score: 0.8308\n",
      "              precision    recall  f1-score   support\n",
      "\n",
      "     Class 0       0.80      0.89      0.84      2671\n",
      "     Class 1       0.87      0.77      0.82      2628\n",
      "\n",
      "    accuracy                           0.83      5299\n",
      "   macro avg       0.84      0.83      0.83      5299\n",
      "weighted avg       0.84      0.83      0.83      5299\n",
      "\n"
     ]
    }
   ],
   "source": [
    "sklearn_eval(test_labels, predicted_labels_baseline)"
   ]
  },
  {
   "cell_type": "code",
   "execution_count": 18,
   "id": "d6bbf743-cf69-410c-92eb-5fec058a8ec3",
   "metadata": {},
   "outputs": [],
   "source": [
    "import pickle\n",
    "\n",
    "with open('non-tata_baseline_predicted_labels.pkl', 'wb') as f:\n",
    "    pickle.dump(predicted_labels_baseline, f)"
   ]
  },
  {
   "cell_type": "code",
   "execution_count": 22,
   "id": "c3f8b52f-f478-4e65-a07e-60220e20d9c2",
   "metadata": {},
   "outputs": [],
   "source": [
    "with open('non-tata_baseline_predicted_labels.pkl', 'rb') as f:\n",
    "    predicted_labels_baseline = pickle.load(f)"
   ]
  },
  {
   "cell_type": "code",
   "execution_count": 23,
   "id": "f1885559-b0f9-4ede-999d-12a74893e32f",
   "metadata": {},
   "outputs": [
    {
     "data": {
      "text/plain": [
       "array([1, 0, 0, 0, 0, 0, 0, 1, 0, 0])"
      ]
     },
     "execution_count": 23,
     "metadata": {},
     "output_type": "execute_result"
    }
   ],
   "source": [
    "predicted_labels_baseline[:10]"
   ]
  },
  {
   "cell_type": "markdown",
   "id": "1b39fd85-1f38-4185-bc14-1d0f07c9d741",
   "metadata": {},
   "source": [
    "## Finetune pre-trained model for Downstream Task\n",
    "\n",
    "### Lora rank=2"
   ]
  },
  {
   "cell_type": "code",
   "execution_count": 17,
   "id": "76cd52ae-c52d-430a-90e0-ac6d908b5356",
   "metadata": {},
   "outputs": [
    {
     "name": "stdout",
     "output_type": "stream",
     "text": [
      "trainable params: 110,592 || all params: 89,789,954 || trainable%: 0.1232\n"
     ]
    }
   ],
   "source": [
    "lora_config = LoraConfig(\n",
    "    #task_type=\"SEQ_CLS\",\n",
    "    r=2,\n",
    "    lora_alpha=32,\n",
    "    target_modules=[\"query\", \"key\", \"value\"],\n",
    "    lora_dropout=0.01,\n",
    ")\n",
    "\n",
    "baseline_model = DNA_LM(lm, num_labels)\n",
    "baseline_model.to(device)\n",
    "lora_model = get_peft_model(baseline_model, lora_config)\n",
    "lora_model.print_trainable_parameters()"
   ]
  },
  {
   "cell_type": "code",
   "execution_count": 16,
   "id": "f100b4d9-5ba5-44eb-87ea-25620305bdf1",
   "metadata": {},
   "outputs": [
    {
     "data": {
      "text/plain": [
       "PeftModel(\n",
       "  (base_model): LoraModel(\n",
       "    (model): DNA_LM(\n",
       "      (model): BertModel(\n",
       "        (embeddings): BertEmbeddings(\n",
       "          (word_embeddings): Embedding(5504, 768, padding_idx=0)\n",
       "          (position_embeddings): Embedding(512, 768)\n",
       "          (token_type_embeddings): Embedding(2, 768)\n",
       "          (LayerNorm): LayerNorm((768,), eps=1e-12, elementwise_affine=True)\n",
       "          (dropout): Dropout(p=0.1, inplace=False)\n",
       "        )\n",
       "        (encoder): BertEncoder(\n",
       "          (layer): ModuleList(\n",
       "            (0-11): 12 x BertLayer(\n",
       "              (attention): BertAttention(\n",
       "                (self): BertSdpaSelfAttention(\n",
       "                  (query): lora.Linear(\n",
       "                    (base_layer): Linear(in_features=768, out_features=768, bias=True)\n",
       "                    (lora_dropout): ModuleDict(\n",
       "                      (default): Dropout(p=0.01, inplace=False)\n",
       "                    )\n",
       "                    (lora_A): ModuleDict(\n",
       "                      (default): Linear(in_features=768, out_features=2, bias=False)\n",
       "                    )\n",
       "                    (lora_B): ModuleDict(\n",
       "                      (default): Linear(in_features=2, out_features=768, bias=False)\n",
       "                    )\n",
       "                    (lora_embedding_A): ParameterDict()\n",
       "                    (lora_embedding_B): ParameterDict()\n",
       "                  )\n",
       "                  (key): lora.Linear(\n",
       "                    (base_layer): Linear(in_features=768, out_features=768, bias=True)\n",
       "                    (lora_dropout): ModuleDict(\n",
       "                      (default): Dropout(p=0.01, inplace=False)\n",
       "                    )\n",
       "                    (lora_A): ModuleDict(\n",
       "                      (default): Linear(in_features=768, out_features=2, bias=False)\n",
       "                    )\n",
       "                    (lora_B): ModuleDict(\n",
       "                      (default): Linear(in_features=2, out_features=768, bias=False)\n",
       "                    )\n",
       "                    (lora_embedding_A): ParameterDict()\n",
       "                    (lora_embedding_B): ParameterDict()\n",
       "                  )\n",
       "                  (value): lora.Linear(\n",
       "                    (base_layer): Linear(in_features=768, out_features=768, bias=True)\n",
       "                    (lora_dropout): ModuleDict(\n",
       "                      (default): Dropout(p=0.01, inplace=False)\n",
       "                    )\n",
       "                    (lora_A): ModuleDict(\n",
       "                      (default): Linear(in_features=768, out_features=2, bias=False)\n",
       "                    )\n",
       "                    (lora_B): ModuleDict(\n",
       "                      (default): Linear(in_features=2, out_features=768, bias=False)\n",
       "                    )\n",
       "                    (lora_embedding_A): ParameterDict()\n",
       "                    (lora_embedding_B): ParameterDict()\n",
       "                  )\n",
       "                  (dropout): Dropout(p=0.1, inplace=False)\n",
       "                )\n",
       "                (output): BertSelfOutput(\n",
       "                  (dense): Linear(in_features=768, out_features=768, bias=True)\n",
       "                  (LayerNorm): LayerNorm((768,), eps=1e-12, elementwise_affine=True)\n",
       "                  (dropout): Dropout(p=0.1, inplace=False)\n",
       "                )\n",
       "              )\n",
       "              (intermediate): BertIntermediate(\n",
       "                (dense): Linear(in_features=768, out_features=3072, bias=True)\n",
       "                (intermediate_act_fn): GELUActivation()\n",
       "              )\n",
       "              (output): BertOutput(\n",
       "                (dense): Linear(in_features=3072, out_features=768, bias=True)\n",
       "                (LayerNorm): LayerNorm((768,), eps=1e-12, elementwise_affine=True)\n",
       "                (dropout): Dropout(p=0.1, inplace=False)\n",
       "              )\n",
       "            )\n",
       "          )\n",
       "        )\n",
       "      )\n",
       "      (classifier): Linear(in_features=768, out_features=2, bias=True)\n",
       "    )\n",
       "  )\n",
       ")"
      ]
     },
     "execution_count": 16,
     "metadata": {},
     "output_type": "execute_result"
    }
   ],
   "source": [
    "lora_model"
   ]
  },
  {
   "cell_type": "code",
   "execution_count": 18,
   "id": "bca8c57a-db73-4346-80c5-f354c6f1feb6",
   "metadata": {},
   "outputs": [
    {
     "name": "stderr",
     "output_type": "stream",
     "text": [
      "Detected kernel version 4.18.0, which is below the recommended minimum of 5.5.0; this can cause the process to hang. It is recommended to upgrade the kernel to the minimum version or higher.\n"
     ]
    }
   ],
   "source": [
    "# Define training arguments\n",
    "training_args = TrainingArguments(\n",
    "    output_dir='./results/lora',\n",
    "    eval_strategy=\"epoch\",\n",
    "    learning_rate=learning_rate,\n",
    "    per_device_train_batch_size=batch_size,\n",
    "    per_device_eval_batch_size=batch_size,\n",
    "    num_train_epochs=epochs,\n",
    "    weight_decay=weight_decay,\n",
    "    eval_steps=1,\n",
    "    logging_steps=1,\n",
    ")\n",
    "\n",
    "# Initialize Trainer\n",
    "trainer = Trainer(\n",
    "    model=lora_model,\n",
    "    args=training_args,\n",
    "    train_dataset=train_dataset,\n",
    "    eval_dataset=val_dataset,\n",
    "    tokenizer=tokenizer,\n",
    "    data_collator=data_collator,\n",
    ")"
   ]
  },
  {
   "cell_type": "code",
   "execution_count": 19,
   "id": "3faa54e1-fd12-48e4-90c7-c1fcf96d7fe4",
   "metadata": {},
   "outputs": [
    {
     "data": {
      "text/html": [
       "\n",
       "    <div>\n",
       "      \n",
       "      <progress value='1590' max='1590' style='width:300px; height:20px; vertical-align: middle;'></progress>\n",
       "      [1590/1590 31:27, Epoch 5/5]\n",
       "    </div>\n",
       "    <table border=\"1\" class=\"dataframe\">\n",
       "  <thead>\n",
       " <tr style=\"text-align: left;\">\n",
       "      <th>Epoch</th>\n",
       "      <th>Training Loss</th>\n",
       "      <th>Validation Loss</th>\n",
       "    </tr>\n",
       "  </thead>\n",
       "  <tbody>\n",
       "    <tr>\n",
       "      <td>1</td>\n",
       "      <td>0.164500</td>\n",
       "      <td>No log</td>\n",
       "    </tr>\n",
       "    <tr>\n",
       "      <td>2</td>\n",
       "      <td>0.048300</td>\n",
       "      <td>No log</td>\n",
       "    </tr>\n",
       "    <tr>\n",
       "      <td>3</td>\n",
       "      <td>0.009500</td>\n",
       "      <td>No log</td>\n",
       "    </tr>\n",
       "    <tr>\n",
       "      <td>4</td>\n",
       "      <td>0.033200</td>\n",
       "      <td>No log</td>\n",
       "    </tr>\n",
       "    <tr>\n",
       "      <td>5</td>\n",
       "      <td>0.009800</td>\n",
       "      <td>No log</td>\n",
       "    </tr>\n",
       "  </tbody>\n",
       "</table><p>"
      ],
      "text/plain": [
       "<IPython.core.display.HTML object>"
      ]
     },
     "metadata": {},
     "output_type": "display_data"
    },
    {
     "data": {
      "text/plain": [
       "TrainOutput(global_step=1590, training_loss=0.11119051163360101, metrics={'train_runtime': 1889.1237, 'train_samples_per_second': 107.46, 'train_steps_per_second': 0.842, 'total_flos': 0.0, 'train_loss': 0.11119051163360101, 'epoch': 5.0})"
      ]
     },
     "execution_count": 19,
     "metadata": {},
     "output_type": "execute_result"
    }
   ],
   "source": [
    "trainer.train()"
   ]
  },
  {
   "cell_type": "code",
   "execution_count": 21,
   "id": "9bfdfb53-6fe4-4f0f-875f-a6c0018a7fc7",
   "metadata": {},
   "outputs": [
    {
     "data": {
      "text/html": [],
      "text/plain": [
       "<IPython.core.display.HTML object>"
      ]
     },
     "metadata": {},
     "output_type": "display_data"
    },
    {
     "name": "stdout",
     "output_type": "stream",
     "text": [
      "Accuracy: 0.9611\n",
      "Precision: 0.9621\n",
      "Recall: 0.9611\n",
      "F1-Score: 0.9611\n",
      "AUC ROC score: 0.9609\n",
      "              precision    recall  f1-score   support\n",
      "\n",
      "     Class 0       0.94      0.98      0.96      2671\n",
      "     Class 1       0.98      0.94      0.96      2628\n",
      "\n",
      "    accuracy                           0.96      5299\n",
      "   macro avg       0.96      0.96      0.96      5299\n",
      "weighted avg       0.96      0.96      0.96      5299\n",
      "\n"
     ]
    }
   ],
   "source": [
    "predictions = trainer.predict(test_dataset)\n",
    "loss, logits = predictions.predictions\n",
    "predicted_labels_lora2 = logits.argmax(axis=-1)\n",
    "\n",
    "sklearn_eval(test_labels, predicted_labels_lora2)"
   ]
  },
  {
   "cell_type": "code",
   "execution_count": 23,
   "id": "06341ee9-94f4-4595-9866-3f263d08d2dc",
   "metadata": {},
   "outputs": [
    {
     "data": {
      "image/png": "[encoded data removed]",
      "text/plain": [
       "<Figure size 640x480 with 1 Axes>"
      ]
     },
     "metadata": {},
     "output_type": "display_data"
    }
   ],
   "source": [
    "plot_roc(test_labels, predicted_labels_lora2)"
   ]
  },
  {
   "cell_type": "markdown",
   "id": "c186ef7e-295b-489a-bdd9-5c06d3af2e03",
   "metadata": {},
   "source": [
    "### LoRA rank=4"
   ]
  },
  {
   "cell_type": "code",
   "execution_count": null,
   "id": "a8ebdbb2-d5b6-4d70-b0b9-e636b5590779",
   "metadata": {},
   "outputs": [],
   "source": [
    "lora_config = LoraConfig(\n",
    "    #task_type=\"SEQ_CLS\",\n",
    "    r=4,\n",
    "    lora_alpha=32,\n",
    "    target_modules=[\"query\", \"key\", \"value\"],\n",
    "    lora_dropout=0.01,\n",
    ")\n",
    "\n",
    "baseline_model = DNA_LM(lm, num_labels)\n",
    "baseline_model.to(device)\n",
    "lora_model = get_peft_model(baseline_model, lora_config)\n",
    "lora_model.print_trainable_parameters()\n",
    "\n",
    "# Define training arguments\n",
    "training_args = TrainingArguments(\n",
    "    output_dir='./results/dora',\n",
    "    eval_strategy=\"epoch\",\n",
    "    learning_rate=learning_rate,\n",
    "    per_device_train_batch_size=batch_size,\n",
    "    per_device_eval_batch_size=batch_size,\n",
    "    num_train_epochs=epochs,\n",
    "    weight_decay=weight_decay,\n",
    "    eval_steps=1,\n",
    "    logging_steps=1,\n",
    ")\n",
    "\n",
    "# Initialize Trainer\n",
    "trainer = Trainer(\n",
    "    model=dora_model,\n",
    "    args=training_args,\n",
    "    train_dataset=train_dataset,\n",
    "    eval_dataset=val_dataset,\n",
    "    tokenizer=tokenizer,\n",
    "    data_collator=data_collator,\n",
    ")\n",
    "\n",
    "trainer.train()"
   ]
  },
  {
   "cell_type": "code",
   "execution_count": null,
   "id": "0302362e-be23-4701-a684-dc70b7c018ed",
   "metadata": {},
   "outputs": [],
   "source": [
    "predictions = trainer.predict(test_dataset)\n",
    "loss, logits = predictions.predictions\n",
    "predicted_labels_lora4 = logits.argmax(axis=-1)\n",
    "\n",
    "sklearn_eval(test_labels, predicted_labels_lora4)"
   ]
  },
  {
   "cell_type": "code",
   "execution_count": 25,
   "id": "bc114a7d-d134-4a98-b824-54bccbd42a2b",
   "metadata": {},
   "outputs": [
    {
     "data": {
      "text/html": [],
      "text/plain": [
       "<IPython.core.display.HTML object>"
      ]
     },
     "metadata": {},
     "output_type": "display_data"
    },
    {
     "name": "stdout",
     "output_type": "stream",
     "text": [
      "Accuracy: 0.9649\n",
      "Precision: 0.9655\n",
      "Recall: 0.9649\n",
      "F1-Score: 0.9649\n",
      "AUC ROC score: 0.9647\n",
      "              precision    recall  f1-score   support\n",
      "\n",
      "     Class 0       0.95      0.98      0.97      2671\n",
      "     Class 1       0.98      0.95      0.96      2628\n",
      "\n",
      "    accuracy                           0.96      5299\n",
      "   macro avg       0.97      0.96      0.96      5299\n",
      "weighted avg       0.97      0.96      0.96      5299\n",
      "\n"
     ]
    }
   ],
   "source": [
    "predictions = trainer.predict(test_dataset)\n",
    "loss, logits = predictions.predictions\n",
    "predicted_labels_lora4 = logits.argmax(axis=-1)\n",
    "\n",
    "sklearn_eval(test_labels, predicted_labels_lora4)"
   ]
  },
  {
   "cell_type": "markdown",
   "id": "8dbded6c-3c0e-4c94-bd9a-d3a6b8829092",
   "metadata": {},
   "source": [
    "### LoRA r=16"
   ]
  },
  {
   "cell_type": "code",
   "execution_count": 13,
   "id": "43b3e5f5-ea94-4801-b93e-4f93437adaa2",
   "metadata": {},
   "outputs": [
    {
     "name": "stderr",
     "output_type": "stream",
     "text": [
      "Detected kernel version 4.18.0, which is below the recommended minimum of 5.5.0; this can cause the process to hang. It is recommended to upgrade the kernel to the minimum version or higher.\n"
     ]
    },
    {
     "name": "stdout",
     "output_type": "stream",
     "text": [
      "trainable params: 884,736 || all params: 90,564,098 || trainable%: 0.9769\n"
     ]
    },
    {
     "data": {
      "text/html": [
       "\n",
       "    <div>\n",
       "      \n",
       "      <progress value='1590' max='1590' style='width:300px; height:20px; vertical-align: middle;'></progress>\n",
       "      [1590/1590 31:35, Epoch 5/5]\n",
       "    </div>\n",
       "    <table border=\"1\" class=\"dataframe\">\n",
       "  <thead>\n",
       " <tr style=\"text-align: left;\">\n",
       "      <th>Epoch</th>\n",
       "      <th>Training Loss</th>\n",
       "      <th>Validation Loss</th>\n",
       "    </tr>\n",
       "  </thead>\n",
       "  <tbody>\n",
       "    <tr>\n",
       "      <td>1</td>\n",
       "      <td>0.024800</td>\n",
       "      <td>No log</td>\n",
       "    </tr>\n",
       "    <tr>\n",
       "      <td>2</td>\n",
       "      <td>0.032200</td>\n",
       "      <td>No log</td>\n",
       "    </tr>\n",
       "    <tr>\n",
       "      <td>3</td>\n",
       "      <td>0.019900</td>\n",
       "      <td>No log</td>\n",
       "    </tr>\n",
       "    <tr>\n",
       "      <td>4</td>\n",
       "      <td>0.022600</td>\n",
       "      <td>No log</td>\n",
       "    </tr>\n",
       "    <tr>\n",
       "      <td>5</td>\n",
       "      <td>0.011600</td>\n",
       "      <td>No log</td>\n",
       "    </tr>\n",
       "  </tbody>\n",
       "</table><p>"
      ],
      "text/plain": [
       "<IPython.core.display.HTML object>"
      ]
     },
     "metadata": {},
     "output_type": "display_data"
    },
    {
     "data": {
      "text/html": [],
      "text/plain": [
       "<IPython.core.display.HTML object>"
      ]
     },
     "metadata": {},
     "output_type": "display_data"
    },
    {
     "name": "stdout",
     "output_type": "stream",
     "text": [
      "Accuracy: 0.9658\n",
      "Precision: 0.9668\n",
      "Recall: 0.9658\n",
      "F1-Score: 0.9658\n",
      "AUC ROC score: 0.9657\n",
      "              precision    recall  f1-score   support\n",
      "\n",
      "     Class 0       0.95      0.99      0.97      2671\n",
      "     Class 1       0.99      0.94      0.96      2628\n",
      "\n",
      "    accuracy                           0.97      5299\n",
      "   macro avg       0.97      0.97      0.97      5299\n",
      "weighted avg       0.97      0.97      0.97      5299\n",
      "\n"
     ]
    }
   ],
   "source": [
    "lora_config = LoraConfig(\n",
    "    #task_type=\"SEQ_CLS\",\n",
    "    r=16,\n",
    "    lora_alpha=32,\n",
    "    target_modules=[\"query\", \"key\", \"value\"],\n",
    "    lora_dropout=0.01,\n",
    ")\n",
    "baseline_model = DNA_LM(lm, num_labels)\n",
    "baseline_model.to(device)\n",
    "lora_model = get_peft_model(baseline_model, lora_config)\n",
    "lora_model.print_trainable_parameters()\n",
    "\n",
    "# Define training arguments\n",
    "training_args = TrainingArguments(\n",
    "    output_dir='./results/lora',\n",
    "    eval_strategy=\"epoch\",\n",
    "    learning_rate=learning_rate,\n",
    "    per_device_train_batch_size=batch_size,\n",
    "    per_device_eval_batch_size=batch_size,\n",
    "    num_train_epochs=epochs,\n",
    "    weight_decay=weight_decay,\n",
    "    eval_steps=1,\n",
    "    logging_steps=1,\n",
    ")\n",
    "\n",
    "# Initialize Trainer\n",
    "trainer = Trainer(\n",
    "    model=lora_model,\n",
    "    args=training_args,\n",
    "    train_dataset=train_dataset,\n",
    "    eval_dataset=val_dataset,\n",
    "    tokenizer=tokenizer,\n",
    "    data_collator=data_collator,\n",
    ")\n",
    "\n",
    "trainer.train()\n",
    "\n",
    "\n",
    "predictions = trainer.predict(test_dataset)\n",
    "loss, logits = predictions.predictions\n",
    "predicted_labels_lora_16 = logits.argmax(axis=-1)\n",
    "\n",
    "sklearn_eval(test_labels, predicted_labels_lora_16)"
   ]
  },
  {
   "cell_type": "markdown",
   "id": "1009de71-7449-4d6e-9fe2-8c7bd088311c",
   "metadata": {},
   "source": [
    "### lora r=32"
   ]
  },
  {
   "cell_type": "code",
   "execution_count": 14,
   "id": "56c3e42e-0e2a-4d50-8c02-d0f61cc4db3e",
   "metadata": {},
   "outputs": [
    {
     "name": "stderr",
     "output_type": "stream",
     "text": [
      "Detected kernel version 4.18.0, which is below the recommended minimum of 5.5.0; this can cause the process to hang. It is recommended to upgrade the kernel to the minimum version or higher.\n"
     ]
    },
    {
     "name": "stdout",
     "output_type": "stream",
     "text": [
      "trainable params: 1,769,472 || all params: 91,448,834 || trainable%: 1.9349\n"
     ]
    },
    {
     "data": {
      "text/html": [
       "\n",
       "    <div>\n",
       "      \n",
       "      <progress value='1590' max='1590' style='width:300px; height:20px; vertical-align: middle;'></progress>\n",
       "      [1590/1590 31:49, Epoch 5/5]\n",
       "    </div>\n",
       "    <table border=\"1\" class=\"dataframe\">\n",
       "  <thead>\n",
       " <tr style=\"text-align: left;\">\n",
       "      <th>Epoch</th>\n",
       "      <th>Training Loss</th>\n",
       "      <th>Validation Loss</th>\n",
       "    </tr>\n",
       "  </thead>\n",
       "  <tbody>\n",
       "    <tr>\n",
       "      <td>1</td>\n",
       "      <td>0.071000</td>\n",
       "      <td>No log</td>\n",
       "    </tr>\n",
       "    <tr>\n",
       "      <td>2</td>\n",
       "      <td>0.027000</td>\n",
       "      <td>No log</td>\n",
       "    </tr>\n",
       "    <tr>\n",
       "      <td>3</td>\n",
       "      <td>0.013800</td>\n",
       "      <td>No log</td>\n",
       "    </tr>\n",
       "    <tr>\n",
       "      <td>4</td>\n",
       "      <td>0.029500</td>\n",
       "      <td>No log</td>\n",
       "    </tr>\n",
       "    <tr>\n",
       "      <td>5</td>\n",
       "      <td>0.008700</td>\n",
       "      <td>No log</td>\n",
       "    </tr>\n",
       "  </tbody>\n",
       "</table><p>"
      ],
      "text/plain": [
       "<IPython.core.display.HTML object>"
      ]
     },
     "metadata": {},
     "output_type": "display_data"
    },
    {
     "data": {
      "text/html": [],
      "text/plain": [
       "<IPython.core.display.HTML object>"
      ]
     },
     "metadata": {},
     "output_type": "display_data"
    },
    {
     "name": "stdout",
     "output_type": "stream",
     "text": [
      "Accuracy: 0.9643\n",
      "Precision: 0.9649\n",
      "Recall: 0.9643\n",
      "F1-Score: 0.9643\n",
      "AUC ROC score: 0.9642\n",
      "              precision    recall  f1-score   support\n",
      "\n",
      "     Class 0       0.95      0.98      0.97      2671\n",
      "     Class 1       0.98      0.95      0.96      2628\n",
      "\n",
      "    accuracy                           0.96      5299\n",
      "   macro avg       0.97      0.96      0.96      5299\n",
      "weighted avg       0.96      0.96      0.96      5299\n",
      "\n"
     ]
    }
   ],
   "source": [
    "lora_config = LoraConfig(\n",
    "    #task_type=\"SEQ_CLS\",\n",
    "    r=32,\n",
    "    lora_alpha=32,\n",
    "    target_modules=[\"query\", \"key\", \"value\"],\n",
    "    lora_dropout=0.01,\n",
    ")\n",
    "baseline_model = DNA_LM(lm, num_labels)\n",
    "baseline_model.to(device)\n",
    "lora_model = get_peft_model(baseline_model, lora_config)\n",
    "lora_model.print_trainable_parameters()\n",
    "\n",
    "# Define training arguments\n",
    "training_args = TrainingArguments(\n",
    "    output_dir='./results/lora',\n",
    "    eval_strategy=\"epoch\",\n",
    "    learning_rate=learning_rate,\n",
    "    per_device_train_batch_size=batch_size,\n",
    "    per_device_eval_batch_size=batch_size,\n",
    "    num_train_epochs=epochs,\n",
    "    weight_decay=weight_decay,\n",
    "    eval_steps=1,\n",
    "    logging_steps=1,\n",
    ")\n",
    "\n",
    "# Initialize Trainer\n",
    "trainer = Trainer(\n",
    "    model=lora_model,\n",
    "    args=training_args,\n",
    "    train_dataset=train_dataset,\n",
    "    eval_dataset=val_dataset,\n",
    "    tokenizer=tokenizer,\n",
    "    data_collator=data_collator,\n",
    ")\n",
    "\n",
    "trainer.train()\n",
    "\n",
    "\n",
    "predictions = trainer.predict(test_dataset)\n",
    "loss, logits = predictions.predictions\n",
    "predicted_labels_lora_32 = logits.argmax(axis=-1)\n",
    "\n",
    "sklearn_eval(test_labels, predicted_labels_lora_32)"
   ]
  },
  {
   "cell_type": "markdown",
   "id": "c4d7d5f0-e400-4e92-8e29-2100cc7080b1",
   "metadata": {},
   "source": [
    "## Dora Model\n",
    "### DoRA rank=4"
   ]
  },
  {
   "cell_type": "code",
   "execution_count": 26,
   "id": "39b3115b-d2c9-468c-b143-e431c77fb279",
   "metadata": {},
   "outputs": [
    {
     "name": "stdout",
     "output_type": "stream",
     "text": [
      "trainable params: 248,832 || all params: 89,928,194 || trainable%: 0.2767\n"
     ]
    }
   ],
   "source": [
    "dora_config = LoraConfig(\n",
    "    #task_type=\"SEQ_CLS\",\n",
    "    use_dora=True,\n",
    "    r=4,\n",
    "    lora_alpha=32,\n",
    "    target_modules=[\"query\", \"key\", \"value\"],\n",
    "    lora_dropout=0.01,\n",
    ")\n",
    "baseline_model = DNA_LM(lm, num_labels)\n",
    "baseline_model.to(device)\n",
    "dora_model = get_peft_model(baseline_model, dora_config)\n",
    "dora_model.print_trainable_parameters()"
   ]
  },
  {
   "cell_type": "code",
   "execution_count": 27,
   "id": "b0cd6908-567b-43c3-9e5e-d6a669053fa3",
   "metadata": {},
   "outputs": [
    {
     "name": "stderr",
     "output_type": "stream",
     "text": [
      "Detected kernel version 4.18.0, which is below the recommended minimum of 5.5.0; this can cause the process to hang. It is recommended to upgrade the kernel to the minimum version or higher.\n"
     ]
    }
   ],
   "source": [
    "# Define training arguments\n",
    "training_args = TrainingArguments(\n",
    "    output_dir='./results/dora',\n",
    "    eval_strategy=\"epoch\",\n",
    "    learning_rate=learning_rate,\n",
    "    per_device_train_batch_size=batch_size,\n",
    "    per_device_eval_batch_size=batch_size,\n",
    "    num_train_epochs=epochs,\n",
    "    weight_decay=weight_decay,\n",
    "    eval_steps=1,\n",
    "    logging_steps=1,\n",
    ")\n",
    "\n",
    "# Initialize Trainer\n",
    "trainer = Trainer(\n",
    "    model=dora_model,\n",
    "    args=training_args,\n",
    "    train_dataset=train_dataset,\n",
    "    eval_dataset=val_dataset,\n",
    "    tokenizer=tokenizer,\n",
    "    data_collator=data_collator,\n",
    ")"
   ]
  },
  {
   "cell_type": "code",
   "execution_count": 28,
   "id": "6072457d-8c3c-4977-b762-ce3734d66565",
   "metadata": {},
   "outputs": [
    {
     "data": {
      "text/html": [
       "\n",
       "    <div>\n",
       "      \n",
       "      <progress value='1590' max='1590' style='width:300px; height:20px; vertical-align: middle;'></progress>\n",
       "      [1590/1590 39:29, Epoch 5/5]\n",
       "    </div>\n",
       "    <table border=\"1\" class=\"dataframe\">\n",
       "  <thead>\n",
       " <tr style=\"text-align: left;\">\n",
       "      <th>Epoch</th>\n",
       "      <th>Training Loss</th>\n",
       "      <th>Validation Loss</th>\n",
       "    </tr>\n",
       "  </thead>\n",
       "  <tbody>\n",
       "    <tr>\n",
       "      <td>1</td>\n",
       "      <td>0.167100</td>\n",
       "      <td>No log</td>\n",
       "    </tr>\n",
       "    <tr>\n",
       "      <td>2</td>\n",
       "      <td>0.024200</td>\n",
       "      <td>No log</td>\n",
       "    </tr>\n",
       "    <tr>\n",
       "      <td>3</td>\n",
       "      <td>0.010100</td>\n",
       "      <td>No log</td>\n",
       "    </tr>\n",
       "    <tr>\n",
       "      <td>4</td>\n",
       "      <td>0.020800</td>\n",
       "      <td>No log</td>\n",
       "    </tr>\n",
       "    <tr>\n",
       "      <td>5</td>\n",
       "      <td>0.007300</td>\n",
       "      <td>No log</td>\n",
       "    </tr>\n",
       "  </tbody>\n",
       "</table><p>"
      ],
      "text/plain": [
       "<IPython.core.display.HTML object>"
      ]
     },
     "metadata": {},
     "output_type": "display_data"
    },
    {
     "data": {
      "text/plain": [
       "TrainOutput(global_step=1590, training_loss=0.10618056845294792, metrics={'train_runtime': 2370.8164, 'train_samples_per_second': 85.627, 'train_steps_per_second': 0.671, 'total_flos': 0.0, 'train_loss': 0.10618056845294792, 'epoch': 5.0})"
      ]
     },
     "execution_count": 28,
     "metadata": {},
     "output_type": "execute_result"
    }
   ],
   "source": [
    "trainer.train()"
   ]
  },
  {
   "cell_type": "code",
   "execution_count": 29,
   "id": "1615c199-85d1-4bec-9ed5-072ea00f7e2d",
   "metadata": {},
   "outputs": [
    {
     "data": {
      "text/html": [],
      "text/plain": [
       "<IPython.core.display.HTML object>"
      ]
     },
     "metadata": {},
     "output_type": "display_data"
    },
    {
     "name": "stdout",
     "output_type": "stream",
     "text": [
      "Accuracy: 0.9643\n",
      "Precision: 0.9652\n",
      "Recall: 0.9643\n",
      "F1-Score: 0.9643\n",
      "AUC ROC score: 0.9642\n",
      "              precision    recall  f1-score   support\n",
      "\n",
      "     Class 0       0.95      0.99      0.97      2671\n",
      "     Class 1       0.99      0.94      0.96      2628\n",
      "\n",
      "    accuracy                           0.96      5299\n",
      "   macro avg       0.97      0.96      0.96      5299\n",
      "weighted avg       0.97      0.96      0.96      5299\n",
      "\n"
     ]
    }
   ],
   "source": [
    "predictions = trainer.predict(test_dataset)\n",
    "loss, logits = predictions.predictions\n",
    "predicted_labels_dora4 = logits.argmax(axis=-1)\n",
    "\n",
    "sklearn_eval(test_labels, predicted_labels_dora4)"
   ]
  },
  {
   "cell_type": "markdown",
   "id": "4272bd3a-c9f3-4e08-b799-d67cd534a893",
   "metadata": {},
   "source": [
    "### DoRA rank=2"
   ]
  },
  {
   "cell_type": "code",
   "execution_count": 11,
   "id": "fb094b9f-3eca-44d3-8a4f-2c96ea185b1f",
   "metadata": {},
   "outputs": [
    {
     "name": "stdout",
     "output_type": "stream",
     "text": [
      "trainable params: 138,240 || all params: 89,817,602 || trainable%: 0.1539\n"
     ]
    }
   ],
   "source": [
    "dora_config = LoraConfig(\n",
    "    #task_type=\"SEQ_CLS\",\n",
    "    use_dora=True,\n",
    "    r=2,\n",
    "    lora_alpha=32,\n",
    "    target_modules=[\"query\", \"key\", \"value\"],\n",
    "    lora_dropout=0.01,\n",
    ")\n",
    "baseline_model = DNA_LM(lm, num_labels)\n",
    "baseline_model.to(device)\n",
    "dora_model = get_peft_model(baseline_model, dora_config)\n",
    "dora_model.print_trainable_parameters()"
   ]
  },
  {
   "cell_type": "code",
   "execution_count": 12,
   "id": "a3c91d46-4985-4311-bda5-c44d9f8e42c7",
   "metadata": {},
   "outputs": [
    {
     "name": "stderr",
     "output_type": "stream",
     "text": [
      "Detected kernel version 4.18.0, which is below the recommended minimum of 5.5.0; this can cause the process to hang. It is recommended to upgrade the kernel to the minimum version or higher.\n"
     ]
    },
    {
     "data": {
      "text/html": [
       "\n",
       "    <div>\n",
       "      \n",
       "      <progress value='1590' max='1590' style='width:300px; height:20px; vertical-align: middle;'></progress>\n",
       "      [1590/1590 39:27, Epoch 5/5]\n",
       "    </div>\n",
       "    <table border=\"1\" class=\"dataframe\">\n",
       "  <thead>\n",
       " <tr style=\"text-align: left;\">\n",
       "      <th>Epoch</th>\n",
       "      <th>Training Loss</th>\n",
       "      <th>Validation Loss</th>\n",
       "    </tr>\n",
       "  </thead>\n",
       "  <tbody>\n",
       "    <tr>\n",
       "      <td>1</td>\n",
       "      <td>0.091500</td>\n",
       "      <td>No log</td>\n",
       "    </tr>\n",
       "    <tr>\n",
       "      <td>2</td>\n",
       "      <td>0.091800</td>\n",
       "      <td>No log</td>\n",
       "    </tr>\n",
       "    <tr>\n",
       "      <td>3</td>\n",
       "      <td>0.023200</td>\n",
       "      <td>No log</td>\n",
       "    </tr>\n",
       "    <tr>\n",
       "      <td>4</td>\n",
       "      <td>0.018700</td>\n",
       "      <td>No log</td>\n",
       "    </tr>\n",
       "    <tr>\n",
       "      <td>5</td>\n",
       "      <td>0.011900</td>\n",
       "      <td>No log</td>\n",
       "    </tr>\n",
       "  </tbody>\n",
       "</table><p>"
      ],
      "text/plain": [
       "<IPython.core.display.HTML object>"
      ]
     },
     "metadata": {},
     "output_type": "display_data"
    },
    {
     "data": {
      "text/plain": [
       "TrainOutput(global_step=1590, training_loss=0.10826307068163026, metrics={'train_runtime': 2368.5496, 'train_samples_per_second': 85.709, 'train_steps_per_second': 0.671, 'total_flos': 0.0, 'train_loss': 0.10826307068163026, 'epoch': 5.0})"
      ]
     },
     "execution_count": 12,
     "metadata": {},
     "output_type": "execute_result"
    }
   ],
   "source": [
    "# Define training arguments\n",
    "training_args = TrainingArguments(\n",
    "    output_dir='./results/dora',\n",
    "    eval_strategy=\"epoch\",\n",
    "    learning_rate=learning_rate,\n",
    "    per_device_train_batch_size=batch_size,\n",
    "    per_device_eval_batch_size=batch_size,\n",
    "    num_train_epochs=epochs,\n",
    "    weight_decay=weight_decay,\n",
    "    eval_steps=1,\n",
    "    logging_steps=1,\n",
    ")\n",
    "\n",
    "# Initialize Trainer\n",
    "trainer = Trainer(\n",
    "    model=dora_model,\n",
    "    args=training_args,\n",
    "    train_dataset=train_dataset,\n",
    "    eval_dataset=val_dataset,\n",
    "    tokenizer=tokenizer,\n",
    "    data_collator=data_collator,\n",
    ")\n",
    "\n",
    "trainer.train()"
   ]
  },
  {
   "cell_type": "code",
   "execution_count": 16,
   "id": "fbfb90de-786b-4076-8da7-2b3998937d3d",
   "metadata": {},
   "outputs": [
    {
     "data": {
      "text/html": [],
      "text/plain": [
       "<IPython.core.display.HTML object>"
      ]
     },
     "metadata": {},
     "output_type": "display_data"
    },
    {
     "name": "stdout",
     "output_type": "stream",
     "text": [
      "Accuracy: 0.9636\n",
      "Precision: 0.9647\n",
      "Recall: 0.9636\n",
      "F1-Score: 0.9635\n",
      "AUC ROC score: 0.9634\n",
      "              precision    recall  f1-score   support\n",
      "\n",
      "     Class 0       0.94      0.99      0.96      2671\n",
      "     Class 1       0.99      0.94      0.96      2628\n",
      "\n",
      "    accuracy                           0.96      5299\n",
      "   macro avg       0.96      0.96      0.96      5299\n",
      "weighted avg       0.96      0.96      0.96      5299\n",
      "\n"
     ]
    }
   ],
   "source": [
    "predictions = trainer.predict(test_dataset)\n",
    "loss, logits = predictions.predictions\n",
    "predicted_labels_dora_2 = logits.argmax(axis=-1)\n",
    "\n",
    "sklearn_eval(test_labels, predicted_labels_dora_2)"
   ]
  },
  {
   "cell_type": "markdown",
   "id": "fc630849-b48a-4e8e-8062-175759cc6ecf",
   "metadata": {},
   "source": [
    "## DoRA r=16"
   ]
  },
  {
   "cell_type": "code",
   "execution_count": 15,
   "id": "5c681e0c-d2f1-4af3-bc38-294fd05b08b5",
   "metadata": {},
   "outputs": [
    {
     "name": "stderr",
     "output_type": "stream",
     "text": [
      "Detected kernel version 4.18.0, which is below the recommended minimum of 5.5.0; this can cause the process to hang. It is recommended to upgrade the kernel to the minimum version or higher.\n"
     ]
    },
    {
     "name": "stdout",
     "output_type": "stream",
     "text": [
      "trainable params: 912,384 || all params: 90,591,746 || trainable%: 1.0071\n"
     ]
    },
    {
     "data": {
      "text/html": [
       "\n",
       "    <div>\n",
       "      \n",
       "      <progress value='1590' max='1590' style='width:300px; height:20px; vertical-align: middle;'></progress>\n",
       "      [1590/1590 39:34, Epoch 5/5]\n",
       "    </div>\n",
       "    <table border=\"1\" class=\"dataframe\">\n",
       "  <thead>\n",
       " <tr style=\"text-align: left;\">\n",
       "      <th>Epoch</th>\n",
       "      <th>Training Loss</th>\n",
       "      <th>Validation Loss</th>\n",
       "    </tr>\n",
       "  </thead>\n",
       "  <tbody>\n",
       "    <tr>\n",
       "      <td>1</td>\n",
       "      <td>0.032000</td>\n",
       "      <td>No log</td>\n",
       "    </tr>\n",
       "    <tr>\n",
       "      <td>2</td>\n",
       "      <td>0.060700</td>\n",
       "      <td>No log</td>\n",
       "    </tr>\n",
       "    <tr>\n",
       "      <td>3</td>\n",
       "      <td>0.020100</td>\n",
       "      <td>No log</td>\n",
       "    </tr>\n",
       "    <tr>\n",
       "      <td>4</td>\n",
       "      <td>0.034900</td>\n",
       "      <td>No log</td>\n",
       "    </tr>\n",
       "    <tr>\n",
       "      <td>5</td>\n",
       "      <td>0.015700</td>\n",
       "      <td>No log</td>\n",
       "    </tr>\n",
       "  </tbody>\n",
       "</table><p>"
      ],
      "text/plain": [
       "<IPython.core.display.HTML object>"
      ]
     },
     "metadata": {},
     "output_type": "display_data"
    },
    {
     "data": {
      "text/html": [],
      "text/plain": [
       "<IPython.core.display.HTML object>"
      ]
     },
     "metadata": {},
     "output_type": "display_data"
    },
    {
     "name": "stdout",
     "output_type": "stream",
     "text": [
      "Accuracy: 0.9657\n",
      "Precision: 0.9660\n",
      "Recall: 0.9657\n",
      "F1-Score: 0.9656\n",
      "AUC ROC score: 0.9655\n",
      "              precision    recall  f1-score   support\n",
      "\n",
      "     Class 0       0.95      0.98      0.97      2671\n",
      "     Class 1       0.98      0.95      0.96      2628\n",
      "\n",
      "    accuracy                           0.97      5299\n",
      "   macro avg       0.97      0.97      0.97      5299\n",
      "weighted avg       0.97      0.97      0.97      5299\n",
      "\n"
     ]
    }
   ],
   "source": [
    "dora_config = LoraConfig(\n",
    "    #task_type=\"SEQ_CLS\",\n",
    "    use_dora=True,\n",
    "    r=16,\n",
    "    lora_alpha=32,\n",
    "    target_modules=[\"query\", \"key\", \"value\"],\n",
    "    lora_dropout=0.01,\n",
    ")\n",
    "baseline_model = DNA_LM(lm, num_labels)\n",
    "baseline_model.to(device)\n",
    "dora_model = get_peft_model(baseline_model, dora_config)\n",
    "dora_model.print_trainable_parameters()\n",
    "\n",
    "# Define training arguments\n",
    "training_args = TrainingArguments(\n",
    "    output_dir='./results/dora',\n",
    "    eval_strategy=\"epoch\",\n",
    "    learning_rate=learning_rate,\n",
    "    per_device_train_batch_size=batch_size,\n",
    "    per_device_eval_batch_size=batch_size,\n",
    "    num_train_epochs=epochs,\n",
    "    weight_decay=weight_decay,\n",
    "    eval_steps=1,\n",
    "    logging_steps=1,\n",
    ")\n",
    "\n",
    "# Initialize Trainer\n",
    "trainer = Trainer(\n",
    "    model=dora_model,\n",
    "    args=training_args,\n",
    "    train_dataset=train_dataset,\n",
    "    eval_dataset=val_dataset,\n",
    "    tokenizer=tokenizer,\n",
    "    data_collator=data_collator,\n",
    ")\n",
    "\n",
    "trainer.train()\n",
    "\n",
    "\n",
    "predictions = trainer.predict(test_dataset)\n",
    "loss, logits = predictions.predictions\n",
    "predicted_labels_dora_16 = logits.argmax(axis=-1)\n",
    "\n",
    "sklearn_eval(test_labels, predicted_labels_dora_16)"
   ]
  },
  {
   "cell_type": "markdown",
   "id": "8f746484-99e5-40ab-b2f7-c0c1a981774c",
   "metadata": {},
   "source": [
    "### DoRA r=32"
   ]
  },
  {
   "cell_type": "code",
   "execution_count": 16,
   "id": "0e5f1b94-8572-4906-b583-9bb2f3cf2de7",
   "metadata": {},
   "outputs": [
    {
     "name": "stderr",
     "output_type": "stream",
     "text": [
      "Detected kernel version 4.18.0, which is below the recommended minimum of 5.5.0; this can cause the process to hang. It is recommended to upgrade the kernel to the minimum version or higher.\n"
     ]
    },
    {
     "name": "stdout",
     "output_type": "stream",
     "text": [
      "trainable params: 1,797,120 || all params: 91,476,482 || trainable%: 1.9646\n"
     ]
    },
    {
     "data": {
      "text/html": [
       "\n",
       "    <div>\n",
       "      \n",
       "      <progress value='1590' max='1590' style='width:300px; height:20px; vertical-align: middle;'></progress>\n",
       "      [1590/1590 39:46, Epoch 5/5]\n",
       "    </div>\n",
       "    <table border=\"1\" class=\"dataframe\">\n",
       "  <thead>\n",
       " <tr style=\"text-align: left;\">\n",
       "      <th>Epoch</th>\n",
       "      <th>Training Loss</th>\n",
       "      <th>Validation Loss</th>\n",
       "    </tr>\n",
       "  </thead>\n",
       "  <tbody>\n",
       "    <tr>\n",
       "      <td>1</td>\n",
       "      <td>0.032400</td>\n",
       "      <td>No log</td>\n",
       "    </tr>\n",
       "    <tr>\n",
       "      <td>2</td>\n",
       "      <td>0.033300</td>\n",
       "      <td>No log</td>\n",
       "    </tr>\n",
       "    <tr>\n",
       "      <td>3</td>\n",
       "      <td>0.033300</td>\n",
       "      <td>No log</td>\n",
       "    </tr>\n",
       "    <tr>\n",
       "      <td>4</td>\n",
       "      <td>0.035000</td>\n",
       "      <td>No log</td>\n",
       "    </tr>\n",
       "    <tr>\n",
       "      <td>5</td>\n",
       "      <td>0.006300</td>\n",
       "      <td>No log</td>\n",
       "    </tr>\n",
       "  </tbody>\n",
       "</table><p>"
      ],
      "text/plain": [
       "<IPython.core.display.HTML object>"
      ]
     },
     "metadata": {},
     "output_type": "display_data"
    },
    {
     "data": {
      "text/html": [],
      "text/plain": [
       "<IPython.core.display.HTML object>"
      ]
     },
     "metadata": {},
     "output_type": "display_data"
    },
    {
     "name": "stdout",
     "output_type": "stream",
     "text": [
      "Accuracy: 0.9640\n",
      "Precision: 0.9647\n",
      "Recall: 0.9640\n",
      "F1-Score: 0.9639\n",
      "AUC ROC score: 0.9638\n",
      "              precision    recall  f1-score   support\n",
      "\n",
      "     Class 0       0.95      0.98      0.96      2671\n",
      "     Class 1       0.98      0.94      0.96      2628\n",
      "\n",
      "    accuracy                           0.96      5299\n",
      "   macro avg       0.96      0.96      0.96      5299\n",
      "weighted avg       0.96      0.96      0.96      5299\n",
      "\n"
     ]
    }
   ],
   "source": [
    "dora_config = LoraConfig(\n",
    "    #task_type=\"SEQ_CLS\",\n",
    "    use_dora=True,\n",
    "    r=32,\n",
    "    lora_alpha=32,\n",
    "    target_modules=[\"query\", \"key\", \"value\"],\n",
    "    lora_dropout=0.01,\n",
    ")\n",
    "baseline_model = DNA_LM(lm, num_labels)\n",
    "baseline_model.to(device)\n",
    "dora_model = get_peft_model(baseline_model, dora_config)\n",
    "dora_model.print_trainable_parameters()\n",
    "\n",
    "# Define training arguments\n",
    "training_args = TrainingArguments(\n",
    "    output_dir='./results/dora',\n",
    "    eval_strategy=\"epoch\",\n",
    "    learning_rate=learning_rate,\n",
    "    per_device_train_batch_size=batch_size,\n",
    "    per_device_eval_batch_size=batch_size,\n",
    "    num_train_epochs=epochs,\n",
    "    weight_decay=weight_decay,\n",
    "    eval_steps=1,\n",
    "    logging_steps=1,\n",
    ")\n",
    "\n",
    "# Initialize Trainer\n",
    "trainer = Trainer(\n",
    "    model=dora_model,\n",
    "    args=training_args,\n",
    "    train_dataset=train_dataset,\n",
    "    eval_dataset=val_dataset,\n",
    "    tokenizer=tokenizer,\n",
    "    data_collator=data_collator,\n",
    ")\n",
    "\n",
    "trainer.train()\n",
    "\n",
    "\n",
    "predictions = trainer.predict(test_dataset)\n",
    "loss, logits = predictions.predictions\n",
    "predicted_labels_dora_32 = logits.argmax(axis=-1)\n",
    "\n",
    "sklearn_eval(test_labels, predicted_labels_dora_32)"
   ]
  },
  {
   "cell_type": "markdown",
   "id": "b0d97a78-ce95-4d66-a8ef-78d37cdde008",
   "metadata": {},
   "source": [
    "### IA3"
   ]
  },
  {
   "cell_type": "code",
   "execution_count": 17,
   "id": "9174779b-e31b-4e61-a331-c0ea8f87e762",
   "metadata": {},
   "outputs": [
    {
     "data": {
      "text/plain": [
       "DNA_LM(\n",
       "  (model): BertModel(\n",
       "    (embeddings): BertEmbeddings(\n",
       "      (word_embeddings): Embedding(5504, 768, padding_idx=0)\n",
       "      (position_embeddings): Embedding(512, 768)\n",
       "      (token_type_embeddings): Embedding(2, 768)\n",
       "      (LayerNorm): LayerNorm((768,), eps=1e-12, elementwise_affine=True)\n",
       "      (dropout): Dropout(p=0.1, inplace=False)\n",
       "    )\n",
       "    (encoder): BertEncoder(\n",
       "      (layer): ModuleList(\n",
       "        (0-11): 12 x BertLayer(\n",
       "          (attention): BertAttention(\n",
       "            (self): BertSdpaSelfAttention(\n",
       "              (query): lora.Linear(\n",
       "                (base_layer): Linear(in_features=768, out_features=768, bias=True)\n",
       "                (lora_dropout): ModuleDict(\n",
       "                  (default): Dropout(p=0.01, inplace=False)\n",
       "                )\n",
       "                (lora_A): ModuleDict(\n",
       "                  (default): Linear(in_features=768, out_features=32, bias=False)\n",
       "                )\n",
       "                (lora_B): ModuleDict(\n",
       "                  (default): Linear(in_features=32, out_features=768, bias=False)\n",
       "                )\n",
       "                (lora_embedding_A): ParameterDict()\n",
       "                (lora_embedding_B): ParameterDict()\n",
       "                (lora_magnitude_vector): ParameterDict(  (default): Parameter containing: [torch.cuda.FloatTensor of size 768 (cuda:0)])\n",
       "              )\n",
       "              (key): Linear(\n",
       "                (base_layer): lora.Linear(\n",
       "                  (base_layer): Linear(in_features=768, out_features=768, bias=True)\n",
       "                  (lora_dropout): ModuleDict(\n",
       "                    (default): Dropout(p=0.01, inplace=False)\n",
       "                  )\n",
       "                  (lora_A): ModuleDict(\n",
       "                    (default): Linear(in_features=768, out_features=32, bias=False)\n",
       "                  )\n",
       "                  (lora_B): ModuleDict(\n",
       "                    (default): Linear(in_features=32, out_features=768, bias=False)\n",
       "                  )\n",
       "                  (lora_embedding_A): ParameterDict()\n",
       "                  (lora_embedding_B): ParameterDict()\n",
       "                  (lora_magnitude_vector): ParameterDict(  (default): Parameter containing: [torch.cuda.FloatTensor of size 768 (cuda:0)])\n",
       "                )\n",
       "                (ia3_l): ParameterDict(  (default): Parameter containing: [torch.cuda.FloatTensor of size 768x1 (cuda:0)])\n",
       "              )\n",
       "              (value): Linear(\n",
       "                (base_layer): lora.Linear(\n",
       "                  (base_layer): Linear(in_features=768, out_features=768, bias=True)\n",
       "                  (lora_dropout): ModuleDict(\n",
       "                    (default): Dropout(p=0.01, inplace=False)\n",
       "                  )\n",
       "                  (lora_A): ModuleDict(\n",
       "                    (default): Linear(in_features=768, out_features=32, bias=False)\n",
       "                  )\n",
       "                  (lora_B): ModuleDict(\n",
       "                    (default): Linear(in_features=32, out_features=768, bias=False)\n",
       "                  )\n",
       "                  (lora_embedding_A): ParameterDict()\n",
       "                  (lora_embedding_B): ParameterDict()\n",
       "                  (lora_magnitude_vector): ParameterDict(  (default): Parameter containing: [torch.cuda.FloatTensor of size 768 (cuda:0)])\n",
       "                )\n",
       "                (ia3_l): ParameterDict(  (default): Parameter containing: [torch.cuda.FloatTensor of size 768x1 (cuda:0)])\n",
       "              )\n",
       "              (dropout): Dropout(p=0.1, inplace=False)\n",
       "            )\n",
       "            (output): BertSelfOutput(\n",
       "              (dense): Linear(\n",
       "                (base_layer): Linear(in_features=768, out_features=768, bias=True)\n",
       "                (ia3_l): ParameterDict(  (default): Parameter containing: [torch.cuda.FloatTensor of size 1x768 (cuda:0)])\n",
       "              )\n",
       "              (LayerNorm): LayerNorm((768,), eps=1e-12, elementwise_affine=True)\n",
       "              (dropout): Dropout(p=0.1, inplace=False)\n",
       "            )\n",
       "          )\n",
       "          (intermediate): BertIntermediate(\n",
       "            (dense): Linear(in_features=768, out_features=3072, bias=True)\n",
       "            (intermediate_act_fn): GELUActivation()\n",
       "          )\n",
       "          (output): BertOutput(\n",
       "            (dense): Linear(\n",
       "              (base_layer): Linear(in_features=3072, out_features=768, bias=True)\n",
       "              (ia3_l): ParameterDict(  (default): Parameter containing: [torch.cuda.FloatTensor of size 1x3072 (cuda:0)])\n",
       "            )\n",
       "            (LayerNorm): LayerNorm((768,), eps=1e-12, elementwise_affine=True)\n",
       "            (dropout): Dropout(p=0.1, inplace=False)\n",
       "          )\n",
       "        )\n",
       "      )\n",
       "    )\n",
       "  )\n",
       "  (classifier): Linear(in_features=768, out_features=2, bias=True)\n",
       ")"
      ]
     },
     "execution_count": 17,
     "metadata": {},
     "output_type": "execute_result"
    }
   ],
   "source": [
    "config = IA3Config(\n",
    "    # peft_type=\"IA3\",\n",
    "    task_type=TaskType.FEATURE_EXTRACTION,\n",
    "    # target_modules=[\"query\", \"key\", \"value\"],\n",
    "    # feedforward_modules=[\"w0\"],\n",
    ")\n",
    "\n",
    "ia3_model = get_peft_model(lm, config)\n",
    "ia3_model.to(device)\n",
    "ia3_model = DNA_LM(ia3_model, num_labels)\n",
    "ia3_model.to(device)"
   ]
  },
  {
   "cell_type": "code",
   "execution_count": 18,
   "id": "b6d59cc9-d0f8-4f40-ace7-726c605d701e",
   "metadata": {},
   "outputs": [
    {
     "name": "stderr",
     "output_type": "stream",
     "text": [
      "Detected kernel version 4.18.0, which is below the recommended minimum of 5.5.0; this can cause the process to hang. It is recommended to upgrade the kernel to the minimum version or higher.\n"
     ]
    },
    {
     "data": {
      "text/html": [
       "\n",
       "    <div>\n",
       "      \n",
       "      <progress value='1590' max='1590' style='width:300px; height:20px; vertical-align: middle;'></progress>\n",
       "      [1590/1590 41:09, Epoch 5/5]\n",
       "    </div>\n",
       "    <table border=\"1\" class=\"dataframe\">\n",
       "  <thead>\n",
       " <tr style=\"text-align: left;\">\n",
       "      <th>Epoch</th>\n",
       "      <th>Training Loss</th>\n",
       "      <th>Validation Loss</th>\n",
       "    </tr>\n",
       "  </thead>\n",
       "  <tbody>\n",
       "    <tr>\n",
       "      <td>1</td>\n",
       "      <td>0.001500</td>\n",
       "      <td>0.156822</td>\n",
       "    </tr>\n",
       "    <tr>\n",
       "      <td>2</td>\n",
       "      <td>0.001100</td>\n",
       "      <td>0.125671</td>\n",
       "    </tr>\n",
       "    <tr>\n",
       "      <td>3</td>\n",
       "      <td>0.008100</td>\n",
       "      <td>0.127764</td>\n",
       "    </tr>\n",
       "    <tr>\n",
       "      <td>4</td>\n",
       "      <td>0.008100</td>\n",
       "      <td>0.137851</td>\n",
       "    </tr>\n",
       "    <tr>\n",
       "      <td>5</td>\n",
       "      <td>0.002300</td>\n",
       "      <td>0.133075</td>\n",
       "    </tr>\n",
       "  </tbody>\n",
       "</table><p>"
      ],
      "text/plain": [
       "<IPython.core.display.HTML object>"
      ]
     },
     "metadata": {},
     "output_type": "display_data"
    },
    {
     "data": {
      "text/plain": [
       "TrainOutput(global_step=1590, training_loss=0.0461290545590257, metrics={'train_runtime': 2471.0852, 'train_samples_per_second': 82.152, 'train_steps_per_second': 0.643, 'total_flos': 0.0, 'train_loss': 0.0461290545590257, 'epoch': 5.0})"
      ]
     },
     "execution_count": 18,
     "metadata": {},
     "output_type": "execute_result"
    }
   ],
   "source": [
    "# Define training arguments\n",
    "training_args = TrainingArguments(\n",
    "    output_dir='./results/ia3',\n",
    "    eval_strategy=\"epoch\",\n",
    "    learning_rate=learning_rate,\n",
    "    per_device_train_batch_size=batch_size,\n",
    "    per_device_eval_batch_size=batch_size,\n",
    "    num_train_epochs=epochs,\n",
    "    weight_decay=weight_decay,\n",
    "    eval_steps=1,\n",
    "    logging_steps=1,\n",
    ")\n",
    "\n",
    "# Initialize Trainer\n",
    "trainer = Trainer(\n",
    "    model=ia3_model,\n",
    "    args=training_args,\n",
    "    train_dataset=train_dataset,\n",
    "    eval_dataset=val_dataset,\n",
    "    tokenizer=tokenizer,\n",
    "    data_collator=data_collator,\n",
    ")\n",
    "\n",
    "trainer.train()"
   ]
  },
  {
   "cell_type": "code",
   "execution_count": 19,
   "id": "26a6d3a7-2ab1-4413-8123-81d531176438",
   "metadata": {},
   "outputs": [
    {
     "data": {
      "text/html": [],
      "text/plain": [
       "<IPython.core.display.HTML object>"
      ]
     },
     "metadata": {},
     "output_type": "display_data"
    },
    {
     "name": "stdout",
     "output_type": "stream",
     "text": [
      "Accuracy: 0.9638\n",
      "Precision: 0.9646\n",
      "Recall: 0.9638\n",
      "F1-Score: 0.9637\n",
      "AUC ROC score: 0.9636\n",
      "              precision    recall  f1-score   support\n",
      "\n",
      "     Class 0       0.94      0.99      0.96      2671\n",
      "     Class 1       0.98      0.94      0.96      2628\n",
      "\n",
      "    accuracy                           0.96      5299\n",
      "   macro avg       0.96      0.96      0.96      5299\n",
      "weighted avg       0.96      0.96      0.96      5299\n",
      "\n"
     ]
    }
   ],
   "source": [
    "predictions = trainer.predict(test_dataset)\n",
    "logits = predictions.predictions\n",
    "predicted_labels_ia3 = logits.argmax(axis=-1)\n",
    "\n",
    "sklearn_eval(test_labels, predicted_labels_ia3)"
   ]
  },
  {
   "cell_type": "markdown",
   "id": "8cbc0d85-775f-4118-97dd-57606691d13e",
   "metadata": {},
   "source": [
    "### AUROC Curve"
   ]
  },
  {
   "cell_type": "code",
   "execution_count": 53,
   "id": "70f06bad-6bd1-46c9-8c95-e778b6a96176",
   "metadata": {},
   "outputs": [
    {
     "data": {
      "image/png": "[encoded data removed]",
      "text/plain": [
       "<Figure size 640x480 with 1 Axes>"
      ]
     },
     "metadata": {},
     "output_type": "display_data"
    }
   ],
   "source": [
    "fpr0, tpr0, thresholds = roc_curve(test_labels, predicted_labels_baseline, pos_label = 1)\n",
    "fpr1, tpr1, thresholds = roc_curve(test_labels, predicted_labels, pos_label = 1)\n",
    "fpr2, tpr2, thresholds = roc_curve(test_labels, predicted_labels_dora_2, pos_label = 1)\n",
    "fpr3, tpr3, thresholds = roc_curve(test_labels, predicted_labels_lora4, pos_label = 1)\n",
    "fpr4, tpr4, thresholds = roc_curve(test_labels, predicted_labels_dora4, pos_label = 1)\n",
    "fpr5, tpr5, thresholds = roc_curve(test_labels, predicted_labels_ia3, pos_label = 1)\n",
    "\n",
    "# AUC score that summarizes the ROC curve\n",
    "roc_auc0 = auc(fpr0, tpr0)\n",
    "roc_auc1 = auc(fpr1, tpr1)\n",
    "roc_auc2 = auc(fpr2, tpr2)\n",
    "roc_auc3 = auc(fpr3, tpr3)\n",
    "roc_auc4 = auc(fpr4, tpr4)\n",
    "roc_auc5 = auc(fpr5, tpr5)\n",
    "\n",
    "plt.plot(fpr0, tpr0, lw = 2, label='Baseline, ROC AUC {:.4f}'.format(roc_auc0))\n",
    "plt.plot(fpr1, tpr1, lw = 2, label='LoRA r=2, ROC AUC {:.4f}'.format(roc_auc1))\n",
    "plt.plot(fpr2, tpr2, lw = 2, label='DoRA r=2, ROC AUC {:.4f}'.format(roc_auc2))\n",
    "plt.plot(fpr3, tpr3, lw = 2, label='LoRA r=4, ROC AUC {:.4f}'.format(roc_auc3))\n",
    "plt.plot(fpr4, tpr4, lw = 2, label='DoRA r=4, ROC AUC {:.4f}'.format(roc_auc4))\n",
    "plt.plot(fpr5, tpr5, lw = 2, label='IA3, ROC AUC {:.4f}'.format(roc_auc5))\n",
    "\n",
    "plt.plot([0, 1], [0, 1],\n",
    "      linestyle = '--',\n",
    "      color = (0.6, 0.6, 0.6),\n",
    "      label = 'random guessing')\n",
    "plt.plot([0, 0, 1], [0, 1, 1],\n",
    "      linestyle = ':',\n",
    "      color = 'black', \n",
    "      label = 'perfect performance')\n",
    "\n",
    "plt.xlim([-0.05, 1.05])\n",
    "plt.ylim([-0.05, 1.05])\n",
    "plt.xlabel('false positive rate')\n",
    "plt.ylabel('true positive rate')\n",
    "plt.title('Receiver Operator Characteristic')\n",
    "plt.legend(loc = \"lower right\")\n",
    "plt.tight_layout()\n",
    "plt.show()"
   ]
  },
  {
   "cell_type": "markdown",
   "id": "dfd2e2e7-a296-4abd-82e3-29a97dbffb3a",
   "metadata": {},
   "source": [
    "## Different LR & Accuracy Performance"
   ]
  },
  {
   "cell_type": "code",
   "execution_count": 27,
   "id": "b3ffe536-c78d-4e9e-9cf6-69a2e5be752c",
   "metadata": {},
   "outputs": [],
   "source": [
    "learning_rate = 1e-2"
   ]
  },
  {
   "cell_type": "code",
   "execution_count": 28,
   "id": "8ad69fbf-b6ce-49b1-abbd-cb19026caaf6",
   "metadata": {},
   "outputs": [
    {
     "name": "stderr",
     "output_type": "stream",
     "text": [
      "Detected kernel version 4.18.0, which is below the recommended minimum of 5.5.0; this can cause the process to hang. It is recommended to upgrade the kernel to the minimum version or higher.\n"
     ]
    },
    {
     "data": {
      "text/html": [
       "\n",
       "    <div>\n",
       "      \n",
       "      <progress value='1590' max='1590' style='width:300px; height:20px; vertical-align: middle;'></progress>\n",
       "      [1590/1590 40:27, Epoch 5/5]\n",
       "    </div>\n",
       "    <table border=\"1\" class=\"dataframe\">\n",
       "  <thead>\n",
       " <tr style=\"text-align: left;\">\n",
       "      <th>Epoch</th>\n",
       "      <th>Training Loss</th>\n",
       "      <th>Validation Loss</th>\n",
       "    </tr>\n",
       "  </thead>\n",
       "  <tbody>\n",
       "    <tr>\n",
       "      <td>1</td>\n",
       "      <td>0.662300</td>\n",
       "      <td>0.694903</td>\n",
       "    </tr>\n",
       "    <tr>\n",
       "      <td>2</td>\n",
       "      <td>0.707000</td>\n",
       "      <td>0.694963</td>\n",
       "    </tr>\n",
       "    <tr>\n",
       "      <td>3</td>\n",
       "      <td>0.692600</td>\n",
       "      <td>0.993297</td>\n",
       "    </tr>\n",
       "    <tr>\n",
       "      <td>4</td>\n",
       "      <td>0.674000</td>\n",
       "      <td>0.696598</td>\n",
       "    </tr>\n",
       "    <tr>\n",
       "      <td>5</td>\n",
       "      <td>0.712900</td>\n",
       "      <td>0.693607</td>\n",
       "    </tr>\n",
       "  </tbody>\n",
       "</table><p>"
      ],
      "text/plain": [
       "<IPython.core.display.HTML object>"
      ]
     },
     "metadata": {},
     "output_type": "display_data"
    },
    {
     "data": {
      "text/plain": [
       "TrainOutput(global_step=1590, training_loss=0.9512650805074464, metrics={'train_runtime': 2429.0108, 'train_samples_per_second': 83.575, 'train_steps_per_second': 0.655, 'total_flos': 0.0, 'train_loss': 0.9512650805074464, 'epoch': 5.0})"
      ]
     },
     "execution_count": 28,
     "metadata": {},
     "output_type": "execute_result"
    }
   ],
   "source": [
    "baseline_model = DNA_LM(lm, num_labels)\n",
    "baseline_model.to(device)\n",
    "\n",
    "# Define training arguments\n",
    "training_args = TrainingArguments(\n",
    "    output_dir='./results/baseline',\n",
    "    eval_strategy=\"epoch\",\n",
    "    learning_rate=learning_rate,\n",
    "    per_device_train_batch_size=batch_size,\n",
    "    per_device_eval_batch_size=batch_size,\n",
    "    num_train_epochs=epochs,\n",
    "    weight_decay=weight_decay,\n",
    "    eval_steps=1,\n",
    "    logging_steps=1,\n",
    ")\n",
    "\n",
    "# Initialize Trainer\n",
    "trainer = Trainer(\n",
    "    model=baseline_model,\n",
    "    args=training_args,\n",
    "    train_dataset=train_dataset,\n",
    "    eval_dataset=val_dataset,\n",
    "    tokenizer=tokenizer,\n",
    "    data_collator=data_collator,\n",
    ")\n",
    "trainer.train()\n"
   ]
  },
  {
   "cell_type": "code",
   "execution_count": 29,
   "id": "bb19b45d-6b86-425b-a960-57ca9a99225c",
   "metadata": {},
   "outputs": [
    {
     "data": {
      "text/html": [],
      "text/plain": [
       "<IPython.core.display.HTML object>"
      ]
     },
     "metadata": {},
     "output_type": "display_data"
    },
    {
     "name": "stdout",
     "output_type": "stream",
     "text": [
      "Accuracy: 0.4959\n",
      "Precision: 0.2460\n",
      "Recall: 0.4959\n",
      "F1-Score: 0.3288\n",
      "AUC ROC score: 0.5000\n",
      "              precision    recall  f1-score   support\n",
      "\n",
      "     Class 0       0.00      0.00      0.00      2671\n",
      "     Class 1       0.50      1.00      0.66      2628\n",
      "\n",
      "    accuracy                           0.50      5299\n",
      "   macro avg       0.25      0.50      0.33      5299\n",
      "weighted avg       0.25      0.50      0.33      5299\n",
      "\n"
     ]
    },
    {
     "name": "stderr",
     "output_type": "stream",
     "text": [
      "/data/nasif12/home_if12/l_fang/.conda/envs/dnalm_env/lib/python3.12/site-packages/sklearn/metrics/_classification.py:1517: UndefinedMetricWarning: Precision is ill-defined and being set to 0.0 in labels with no predicted samples. Use `zero_division` parameter to control this behavior.\n",
      "  _warn_prf(average, modifier, f\"{metric.capitalize()} is\", len(result))\n",
      "/data/nasif12/home_if12/l_fang/.conda/envs/dnalm_env/lib/python3.12/site-packages/sklearn/metrics/_classification.py:1517: UndefinedMetricWarning: Precision is ill-defined and being set to 0.0 in labels with no predicted samples. Use `zero_division` parameter to control this behavior.\n",
      "  _warn_prf(average, modifier, f\"{metric.capitalize()} is\", len(result))\n",
      "/data/nasif12/home_if12/l_fang/.conda/envs/dnalm_env/lib/python3.12/site-packages/sklearn/metrics/_classification.py:1517: UndefinedMetricWarning: Precision is ill-defined and being set to 0.0 in labels with no predicted samples. Use `zero_division` parameter to control this behavior.\n",
      "  _warn_prf(average, modifier, f\"{metric.capitalize()} is\", len(result))\n",
      "/data/nasif12/home_if12/l_fang/.conda/envs/dnalm_env/lib/python3.12/site-packages/sklearn/metrics/_classification.py:1517: UndefinedMetricWarning: Precision is ill-defined and being set to 0.0 in labels with no predicted samples. Use `zero_division` parameter to control this behavior.\n",
      "  _warn_prf(average, modifier, f\"{metric.capitalize()} is\", len(result))\n"
     ]
    }
   ],
   "source": [
    "predictions = trainer.predict(test_dataset)\n",
    "logits = predictions.predictions\n",
    "predicted_labels_baseline = logits.argmax(axis=-1)\n",
    "\n",
    "sklearn_eval(test_labels,predicted_labels_baseline)"
   ]
  },
  {
   "cell_type": "code",
   "execution_count": 30,
   "id": "061653d6-bd6f-485a-bc22-4e3422794f1f",
   "metadata": {},
   "outputs": [
    {
     "name": "stderr",
     "output_type": "stream",
     "text": [
      "Detected kernel version 4.18.0, which is below the recommended minimum of 5.5.0; this can cause the process to hang. It is recommended to upgrade the kernel to the minimum version or higher.\n"
     ]
    },
    {
     "name": "stdout",
     "output_type": "stream",
     "text": [
      "trainable params: 2,092,032 || all params: 91,835,906 || trainable%: 2.2780\n"
     ]
    },
    {
     "data": {
      "text/html": [
       "\n",
       "    <div>\n",
       "      \n",
       "      <progress value='1590' max='1590' style='width:300px; height:20px; vertical-align: middle;'></progress>\n",
       "      [1590/1590 39:59, Epoch 5/5]\n",
       "    </div>\n",
       "    <table border=\"1\" class=\"dataframe\">\n",
       "  <thead>\n",
       " <tr style=\"text-align: left;\">\n",
       "      <th>Epoch</th>\n",
       "      <th>Training Loss</th>\n",
       "      <th>Validation Loss</th>\n",
       "    </tr>\n",
       "  </thead>\n",
       "  <tbody>\n",
       "    <tr>\n",
       "      <td>1</td>\n",
       "      <td>0.710100</td>\n",
       "      <td>No log</td>\n",
       "    </tr>\n",
       "    <tr>\n",
       "      <td>2</td>\n",
       "      <td>0.700500</td>\n",
       "      <td>No log</td>\n",
       "    </tr>\n",
       "    <tr>\n",
       "      <td>3</td>\n",
       "      <td>0.678700</td>\n",
       "      <td>No log</td>\n",
       "    </tr>\n",
       "    <tr>\n",
       "      <td>4</td>\n",
       "      <td>0.673300</td>\n",
       "      <td>No log</td>\n",
       "    </tr>\n",
       "    <tr>\n",
       "      <td>5</td>\n",
       "      <td>0.702300</td>\n",
       "      <td>No log</td>\n",
       "    </tr>\n",
       "  </tbody>\n",
       "</table><p>"
      ],
      "text/plain": [
       "<IPython.core.display.HTML object>"
      ]
     },
     "metadata": {},
     "output_type": "display_data"
    },
    {
     "data": {
      "text/html": [],
      "text/plain": [
       "<IPython.core.display.HTML object>"
      ]
     },
     "metadata": {},
     "output_type": "display_data"
    },
    {
     "name": "stdout",
     "output_type": "stream",
     "text": [
      "Accuracy: 0.4959\n",
      "Precision: 0.2460\n",
      "Recall: 0.4959\n",
      "F1-Score: 0.3288\n",
      "AUC ROC score: 0.5000\n",
      "              precision    recall  f1-score   support\n",
      "\n",
      "     Class 0       0.00      0.00      0.00      2671\n",
      "     Class 1       0.50      1.00      0.66      2628\n",
      "\n",
      "    accuracy                           0.50      5299\n",
      "   macro avg       0.25      0.50      0.33      5299\n",
      "weighted avg       0.25      0.50      0.33      5299\n",
      "\n"
     ]
    },
    {
     "name": "stderr",
     "output_type": "stream",
     "text": [
      "/data/nasif12/home_if12/l_fang/.conda/envs/dnalm_env/lib/python3.12/site-packages/sklearn/metrics/_classification.py:1517: UndefinedMetricWarning: Precision is ill-defined and being set to 0.0 in labels with no predicted samples. Use `zero_division` parameter to control this behavior.\n",
      "  _warn_prf(average, modifier, f\"{metric.capitalize()} is\", len(result))\n",
      "/data/nasif12/home_if12/l_fang/.conda/envs/dnalm_env/lib/python3.12/site-packages/sklearn/metrics/_classification.py:1517: UndefinedMetricWarning: Precision is ill-defined and being set to 0.0 in labels with no predicted samples. Use `zero_division` parameter to control this behavior.\n",
      "  _warn_prf(average, modifier, f\"{metric.capitalize()} is\", len(result))\n",
      "/data/nasif12/home_if12/l_fang/.conda/envs/dnalm_env/lib/python3.12/site-packages/sklearn/metrics/_classification.py:1517: UndefinedMetricWarning: Precision is ill-defined and being set to 0.0 in labels with no predicted samples. Use `zero_division` parameter to control this behavior.\n",
      "  _warn_prf(average, modifier, f\"{metric.capitalize()} is\", len(result))\n",
      "/data/nasif12/home_if12/l_fang/.conda/envs/dnalm_env/lib/python3.12/site-packages/sklearn/metrics/_classification.py:1517: UndefinedMetricWarning: Precision is ill-defined and being set to 0.0 in labels with no predicted samples. Use `zero_division` parameter to control this behavior.\n",
      "  _warn_prf(average, modifier, f\"{metric.capitalize()} is\", len(result))\n"
     ]
    }
   ],
   "source": [
    "lora_config = LoraConfig(\n",
    "    #task_type=\"SEQ_CLS\",\n",
    "    r=16,\n",
    "    lora_alpha=32,\n",
    "    target_modules=[\"query\", \"key\", \"value\"],\n",
    "    lora_dropout=0.01,\n",
    ")\n",
    "\n",
    "baseline_model = DNA_LM(lm, num_labels)\n",
    "baseline_model.to(device)\n",
    "lora_model = get_peft_model(baseline_model, lora_config)\n",
    "lora_model.print_trainable_parameters()\n",
    "\n",
    "# Define training arguments\n",
    "training_args = TrainingArguments(\n",
    "    output_dir='./results/dora',\n",
    "    eval_strategy=\"epoch\",\n",
    "    learning_rate=learning_rate,\n",
    "    per_device_train_batch_size=batch_size,\n",
    "    per_device_eval_batch_size=batch_size,\n",
    "    num_train_epochs=epochs,\n",
    "    weight_decay=weight_decay,\n",
    "    eval_steps=1,\n",
    "    logging_steps=1,\n",
    ")\n",
    "\n",
    "# Initialize Trainer\n",
    "trainer = Trainer(\n",
    "    model=lora_model,\n",
    "    args=training_args,\n",
    "    train_dataset=train_dataset,\n",
    "    eval_dataset=val_dataset,\n",
    "    tokenizer=tokenizer,\n",
    "    data_collator=data_collator,\n",
    ")\n",
    "trainer.train()\n",
    "\n",
    "predictions = trainer.predict(test_dataset)\n",
    "loss, logits = predictions.predictions\n",
    "predicted_labels_lora2 = logits.argmax(axis=-1)\n",
    "\n",
    "sklearn_eval(test_labels, predicted_labels_lora2)"
   ]
  },
  {
   "cell_type": "code",
   "execution_count": 31,
   "id": "a548d8b0-61e5-4860-b55b-b4d5fd0f116b",
   "metadata": {},
   "outputs": [
    {
     "name": "stderr",
     "output_type": "stream",
     "text": [
      "Detected kernel version 4.18.0, which is below the recommended minimum of 5.5.0; this can cause the process to hang. It is recommended to upgrade the kernel to the minimum version or higher.\n"
     ]
    },
    {
     "name": "stdout",
     "output_type": "stream",
     "text": [
      "trainable params: 2,110,464 || all params: 91,854,338 || trainable%: 2.2976\n"
     ]
    },
    {
     "data": {
      "text/html": [
       "\n",
       "    <div>\n",
       "      \n",
       "      <progress value='1590' max='1590' style='width:300px; height:20px; vertical-align: middle;'></progress>\n",
       "      [1590/1590 48:35, Epoch 5/5]\n",
       "    </div>\n",
       "    <table border=\"1\" class=\"dataframe\">\n",
       "  <thead>\n",
       " <tr style=\"text-align: left;\">\n",
       "      <th>Epoch</th>\n",
       "      <th>Training Loss</th>\n",
       "      <th>Validation Loss</th>\n",
       "    </tr>\n",
       "  </thead>\n",
       "  <tbody>\n",
       "    <tr>\n",
       "      <td>1</td>\n",
       "      <td>0.680000</td>\n",
       "      <td>No log</td>\n",
       "    </tr>\n",
       "    <tr>\n",
       "      <td>2</td>\n",
       "      <td>0.688400</td>\n",
       "      <td>No log</td>\n",
       "    </tr>\n",
       "    <tr>\n",
       "      <td>3</td>\n",
       "      <td>0.648700</td>\n",
       "      <td>No log</td>\n",
       "    </tr>\n",
       "    <tr>\n",
       "      <td>4</td>\n",
       "      <td>0.680100</td>\n",
       "      <td>No log</td>\n",
       "    </tr>\n",
       "    <tr>\n",
       "      <td>5</td>\n",
       "      <td>0.698900</td>\n",
       "      <td>No log</td>\n",
       "    </tr>\n",
       "  </tbody>\n",
       "</table><p>"
      ],
      "text/plain": [
       "<IPython.core.display.HTML object>"
      ]
     },
     "metadata": {},
     "output_type": "display_data"
    },
    {
     "data": {
      "text/html": [],
      "text/plain": [
       "<IPython.core.display.HTML object>"
      ]
     },
     "metadata": {},
     "output_type": "display_data"
    },
    {
     "name": "stdout",
     "output_type": "stream",
     "text": [
      "Accuracy: 0.4959\n",
      "Precision: 0.2460\n",
      "Recall: 0.4959\n",
      "F1-Score: 0.3288\n",
      "AUC ROC score: 0.5000\n",
      "              precision    recall  f1-score   support\n",
      "\n",
      "     Class 0       0.00      0.00      0.00      2671\n",
      "     Class 1       0.50      1.00      0.66      2628\n",
      "\n",
      "    accuracy                           0.50      5299\n",
      "   macro avg       0.25      0.50      0.33      5299\n",
      "weighted avg       0.25      0.50      0.33      5299\n",
      "\n"
     ]
    },
    {
     "name": "stderr",
     "output_type": "stream",
     "text": [
      "/data/nasif12/home_if12/l_fang/.conda/envs/dnalm_env/lib/python3.12/site-packages/sklearn/metrics/_classification.py:1517: UndefinedMetricWarning: Precision is ill-defined and being set to 0.0 in labels with no predicted samples. Use `zero_division` parameter to control this behavior.\n",
      "  _warn_prf(average, modifier, f\"{metric.capitalize()} is\", len(result))\n",
      "/data/nasif12/home_if12/l_fang/.conda/envs/dnalm_env/lib/python3.12/site-packages/sklearn/metrics/_classification.py:1517: UndefinedMetricWarning: Precision is ill-defined and being set to 0.0 in labels with no predicted samples. Use `zero_division` parameter to control this behavior.\n",
      "  _warn_prf(average, modifier, f\"{metric.capitalize()} is\", len(result))\n",
      "/data/nasif12/home_if12/l_fang/.conda/envs/dnalm_env/lib/python3.12/site-packages/sklearn/metrics/_classification.py:1517: UndefinedMetricWarning: Precision is ill-defined and being set to 0.0 in labels with no predicted samples. Use `zero_division` parameter to control this behavior.\n",
      "  _warn_prf(average, modifier, f\"{metric.capitalize()} is\", len(result))\n",
      "/data/nasif12/home_if12/l_fang/.conda/envs/dnalm_env/lib/python3.12/site-packages/sklearn/metrics/_classification.py:1517: UndefinedMetricWarning: Precision is ill-defined and being set to 0.0 in labels with no predicted samples. Use `zero_division` parameter to control this behavior.\n",
      "  _warn_prf(average, modifier, f\"{metric.capitalize()} is\", len(result))\n"
     ]
    }
   ],
   "source": [
    "dora_config = LoraConfig(\n",
    "    #task_type=\"SEQ_CLS\",\n",
    "    r=16,\n",
    "    use_dora=True,\n",
    "    lora_alpha=32,\n",
    "    target_modules=[\"query\", \"key\", \"value\"],\n",
    "    lora_dropout=0.01,\n",
    ")\n",
    "\n",
    "baseline_model = DNA_LM(lm, num_labels)\n",
    "baseline_model.to(device)\n",
    "dora_model = get_peft_model(baseline_model, dora_config)\n",
    "dora_model.print_trainable_parameters()\n",
    "\n",
    "# Define training arguments\n",
    "training_args = TrainingArguments(\n",
    "    output_dir='./results/dora',\n",
    "    eval_strategy=\"epoch\",\n",
    "    learning_rate=learning_rate,\n",
    "    per_device_train_batch_size=batch_size,\n",
    "    per_device_eval_batch_size=batch_size,\n",
    "    num_train_epochs=epochs,\n",
    "    weight_decay=weight_decay,\n",
    "    eval_steps=1,\n",
    "    logging_steps=1,\n",
    ")\n",
    "\n",
    "# Initialize Trainer\n",
    "trainer = Trainer(\n",
    "    model=dora_model,\n",
    "    args=training_args,\n",
    "    train_dataset=train_dataset,\n",
    "    eval_dataset=val_dataset,\n",
    "    tokenizer=tokenizer,\n",
    "    data_collator=data_collator,\n",
    ")\n",
    "\n",
    "trainer.train()\n",
    "\n",
    "predictions = trainer.predict(test_dataset)\n",
    "loss, logits = predictions.predictions\n",
    "predicted_labels_dora2 = logits.argmax(axis=-1)\n",
    "\n",
    "sklearn_eval(test_labels, predicted_labels_dora2)"
   ]
  },
  {
   "cell_type": "code",
   "execution_count": 32,
   "id": "8b1fc833-f82d-48df-9b6c-72d79c4a7182",
   "metadata": {},
   "outputs": [],
   "source": [
    "learning_rate = 1e-4"
   ]
  },
  {
   "cell_type": "code",
   "execution_count": null,
   "id": "049d24c7-618f-4411-b168-9b4f55eadc7c",
   "metadata": {},
   "outputs": [
    {
     "name": "stderr",
     "output_type": "stream",
     "text": [
      "Detected kernel version 4.18.0, which is below the recommended minimum of 5.5.0; this can cause the process to hang. It is recommended to upgrade the kernel to the minimum version or higher.\n"
     ]
    },
    {
     "data": {
      "text/html": [
       "\n",
       "    <div>\n",
       "      \n",
       "      <progress value='1273' max='1590' style='width:300px; height:20px; vertical-align: middle;'></progress>\n",
       "      [1273/1590 38:12 < 09:31, 0.55 it/s, Epoch 4/5]\n",
       "    </div>\n",
       "    <table border=\"1\" class=\"dataframe\">\n",
       "  <thead>\n",
       " <tr style=\"text-align: left;\">\n",
       "      <th>Epoch</th>\n",
       "      <th>Training Loss</th>\n",
       "      <th>Validation Loss</th>\n",
       "    </tr>\n",
       "  </thead>\n",
       "  <tbody>\n",
       "    <tr>\n",
       "      <td>1</td>\n",
       "      <td>0.702400</td>\n",
       "      <td>0.693139</td>\n",
       "    </tr>\n",
       "    <tr>\n",
       "      <td>2</td>\n",
       "      <td>0.685200</td>\n",
       "      <td>0.693363</td>\n",
       "    </tr>\n",
       "    <tr>\n",
       "      <td>3</td>\n",
       "      <td>0.670300</td>\n",
       "      <td>0.693249</td>\n",
       "    </tr>\n",
       "  </tbody>\n",
       "</table><p>\n",
       "    <div>\n",
       "      \n",
       "      <progress value='17' max='56' style='width:300px; height:20px; vertical-align: middle;'></progress>\n",
       "      [17/56 00:12 < 00:29, 1.33 it/s]\n",
       "    </div>\n",
       "    "
      ],
      "text/plain": [
       "<IPython.core.display.HTML object>"
      ]
     },
     "metadata": {},
     "output_type": "display_data"
    }
   ],
   "source": [
    "baseline_model = DNA_LM(lm, num_labels)\n",
    "baseline_model.to(device)\n",
    "\n",
    "# Define training arguments\n",
    "training_args = TrainingArguments(\n",
    "    output_dir='./results/baseline',\n",
    "    eval_strategy=\"epoch\",\n",
    "    learning_rate=learning_rate,\n",
    "    per_device_train_batch_size=batch_size,\n",
    "    per_device_eval_batch_size=batch_size,\n",
    "    num_train_epochs=epochs,\n",
    "    weight_decay=weight_decay,\n",
    "    eval_steps=1,\n",
    "    logging_steps=1,\n",
    ")\n",
    "\n",
    "# Initialize Trainer\n",
    "trainer = Trainer(\n",
    "    model=baseline_model,\n",
    "    args=training_args,\n",
    "    train_dataset=train_dataset,\n",
    "    eval_dataset=val_dataset,\n",
    "    tokenizer=tokenizer,\n",
    "    data_collator=data_collator,\n",
    ")\n",
    "trainer.train()\n",
    "predictions = trainer.predict(test_dataset)\n",
    "logits = predictions.predictions\n",
    "predicted_labels_baseline = logits.argmax(axis=-1)\n",
    "\n",
    "sklearn_eval(test_labels,predicted_labels_baseline)"
   ]
  },
  {
   "cell_type": "code",
   "execution_count": null,
   "id": "2307a0be-8ae2-48e1-b91c-528c0b2708c6",
   "metadata": {},
   "outputs": [],
   "source": [
    "lora_config = LoraConfig(\n",
    "    #task_type=\"SEQ_CLS\",\n",
    "    r=16,\n",
    "    lora_alpha=32,\n",
    "    target_modules=[\"query\", \"key\", \"value\"],\n",
    "    lora_dropout=0.01,\n",
    ")\n",
    "\n",
    "baseline_model = DNA_LM(lm, num_labels)\n",
    "baseline_model.to(device)\n",
    "lora_model = get_peft_model(baseline_model, lora_config)\n",
    "lora_model.print_trainable_parameters()\n",
    "\n",
    "# Define training arguments\n",
    "training_args = TrainingArguments(\n",
    "    output_dir='./results/dora',\n",
    "    eval_strategy=\"epoch\",\n",
    "    learning_rate=learning_rate,\n",
    "    per_device_train_batch_size=batch_size,\n",
    "    per_device_eval_batch_size=batch_size,\n",
    "    num_train_epochs=epochs,\n",
    "    weight_decay=weight_decay,\n",
    "    eval_steps=1,\n",
    "    logging_steps=1,\n",
    ")\n",
    "\n",
    "# Initialize Trainer\n",
    "trainer = Trainer(\n",
    "    model=lora_model,\n",
    "    args=training_args,\n",
    "    train_dataset=train_dataset,\n",
    "    eval_dataset=val_dataset,\n",
    "    tokenizer=tokenizer,\n",
    "    data_collator=data_collator,\n",
    ")\n",
    "trainer.train()\n",
    "\n",
    "predictions = trainer.predict(test_dataset)\n",
    "loss, logits = predictions.predictions\n",
    "predicted_labels_lora2 = logits.argmax(axis=-1)\n",
    "\n",
    "sklearn_eval(test_labels, predicted_labels_lora2)"
   ]
  },
  {
   "cell_type": "code",
   "execution_count": null,
   "id": "24f0c7e5-0043-4577-aa00-2542ebab200c",
   "metadata": {},
   "outputs": [],
   "source": [
    "dora_config = LoraConfig(\n",
    "    #task_type=\"SEQ_CLS\",\n",
    "    r=16,\n",
    "    use_dora=True,\n",
    "    lora_alpha=32,\n",
    "    target_modules=[\"query\", \"key\", \"value\"],\n",
    "    lora_dropout=0.01,\n",
    ")\n",
    "\n",
    "baseline_model = DNA_LM(lm, num_labels)\n",
    "baseline_model.to(device)\n",
    "dora_model = get_peft_model(baseline_model, dora_config)\n",
    "dora_model.print_trainable_parameters()\n",
    "\n",
    "# Define training arguments\n",
    "training_args = TrainingArguments(\n",
    "    output_dir='./results/dora',\n",
    "    eval_strategy=\"epoch\",\n",
    "    learning_rate=learning_rate,\n",
    "    per_device_train_batch_size=batch_size,\n",
    "    per_device_eval_batch_size=batch_size,\n",
    "    num_train_epochs=epochs,\n",
    "    weight_decay=weight_decay,\n",
    "    eval_steps=1,\n",
    "    logging_steps=1,\n",
    ")\n",
    "\n",
    "# Initialize Trainer\n",
    "trainer = Trainer(\n",
    "    model=dora_model,\n",
    "    args=training_args,\n",
    "    train_dataset=train_dataset,\n",
    "    eval_dataset=val_dataset,\n",
    "    tokenizer=tokenizer,\n",
    "    data_collator=data_collator,\n",
    ")\n",
    "print(learning_rate)\n",
    "trainer.train()\n",
    "\n",
    "predictions = trainer.predict(test_dataset)\n",
    "loss, logits = predictions.predictions\n",
    "predicted_labels_dora2 = logits.argmax(axis=-1)\n",
    "\n",
    "sklearn_eval(test_labels, predicted_labels_dora2)"
   ]
  },
  {
   "cell_type": "code",
   "execution_count": null,
   "id": "ac104d3a-d598-41d0-a9b9-cac3fdc6b271",
   "metadata": {},
   "outputs": [],
   "source": []
  }
 ],
 "metadata": {
  "kernelspec": {
   "display_name": "Python [conda env:.conda-dnalm_env]",
   "language": "python",
   "name": "conda-env-.conda-dnalm_env-py"
  },
  "language_info": {
   "codemirror_mode": {
    "name": "ipython",
    "version": 3
   },
   "file_extension": ".py",
   "mimetype": "text/x-python",
   "name": "python",
   "nbconvert_exporter": "python",
   "pygments_lexer": "ipython3",
   "version": "3.12.4"
  }
 },
 "nbformat": 4,
 "nbformat_minor": 5
}
